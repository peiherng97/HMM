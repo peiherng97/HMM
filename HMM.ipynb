{
  "nbformat": 4,
  "nbformat_minor": 0,
  "metadata": {
    "colab": {
      "name": "HMM.ipynb",
      "provenance": [],
      "collapsed_sections": [
        "Z3zUUYH0giKV",
        "qBCrFobsEM8X"
      ],
      "include_colab_link": true
    },
    "kernelspec": {
      "name": "python3",
      "display_name": "Python 3"
    },
    "accelerator": "GPU"
  },
  "cells": [
    {
      "cell_type": "markdown",
      "metadata": {
        "id": "view-in-github",
        "colab_type": "text"
      },
      "source": [
        "<a href=\"https://colab.research.google.com/github/peiherng97/HMM/blob/master/HMM.ipynb\" target=\"_parent\"><img src=\"https://colab.research.google.com/assets/colab-badge.svg\" alt=\"Open In Colab\"/></a>"
      ]
    },
    {
      "cell_type": "markdown",
      "metadata": {
        "id": "lDJIV2EVBuFZ",
        "colab_type": "text"
      },
      "source": [
        "# Fun with Hidden Markov Models\n",
        "*by Loren Lugosch*"
      ]
    },
    {
      "cell_type": "markdown",
      "metadata": {
        "id": "_rWFkdjYOlk8",
        "colab_type": "text"
      },
      "source": [
        "This notebook introduces the Hidden Markov Model (HMM), a simple model for sequential data.\n",
        "\n",
        "We will see:\n",
        "- what an HMM is and when you might want to use it;\n",
        "- the so-called \"three problems\" of an HMM; and \n",
        "- how to implement an HMM in PyTorch.\n",
        "\n",
        "(The code in this notebook can also be found at https://github.com/lorenlugosch/pytorch_HMM.)\n",
        "\n",
        "EDIT: The first version of this notebook normalized the transition matrix along the wrong axis. I've fixed that now."
      ]
    },
    {
      "cell_type": "markdown",
      "metadata": {
        "id": "efPPcGy0gP6H",
        "colab_type": "text"
      },
      "source": [
        "A hypothetical scenario\n",
        "------\n",
        "\n",
        "To motivate the use of HMMs, imagine that you have a friend who gets to do a lot of travelling. Every day, this jet-setting friend sends you a selfie from the city they’re in, to make you envious."
      ]
    },
    {
      "cell_type": "markdown",
      "metadata": {
        "id": "Cs3z7pnVib9g",
        "colab_type": "text"
      },
      "source": [
        "<center>\n",
        "\n",
        "![Diagram of a traveling friend sending selfies](https://github.com/lorenlugosch/pytorch_HMM/blob/master/img/selfies.png?raw=true)\n",
        "</center>\n",
        "\n",
        "\n",
        "\n"
      ]
    },
    {
      "cell_type": "markdown",
      "metadata": {
        "id": "hTPNK3IjirDA",
        "colab_type": "text"
      },
      "source": [
        "How would you go about guessing which city the friend is in each day, just by looking at the selfies?\n",
        "\n",
        "If the selfie contains a really obvious landmark, like the Eiffel Tower, it will be easy to figure out where the photo was taken. If not, it will be a lot harder to infer the city.\n",
        "\n",
        "But we have a clue to help us: the city the friend is in each day is not totally random. For example, the friend will probably remain in the same city for a few days to sightsee before flying to a new city."
      ]
    },
    {
      "cell_type": "markdown",
      "metadata": {
        "id": "k4g7IG7CBx-Y",
        "colab_type": "text"
      },
      "source": [
        "## The HMM setup\n",
        "\n",
        "The hypothetical scenario of the friend travelling between cities and sending you selfies can be modeled using an HMM.\n"
      ]
    },
    {
      "cell_type": "markdown",
      "metadata": {
        "id": "NpwgbDTnRzRa",
        "colab_type": "text"
      },
      "source": [
        "An HMM models a system that is in a particular state at any given time and produces an output that depends on that state. \n",
        "\n",
        "At each timestep or clock tick, the system randomly decides on a new state and jumps into that state. The system then randomly generates an observation. The states are \"hidden\": we can't observe them. (In the cities/selfies analogy, the unknown cities would be the hidden states, and the selfies would be the observations.)\n",
        "\n",
        "Let's denote the sequence of states as $\\mathbf{z} = \\{z_1, z_2, \\dots, z_T \\}$, where each state is one of a finite set of $N$ states, and the sequence of observations as $\\mathbf{x} = \\{x_1, x_2, \\dots, x_T\\}$. The observations could be discrete, like letters, or real-valued, like audio frames."
      ]
    },
    {
      "cell_type": "markdown",
      "metadata": {
        "id": "uV5fAhEQDAcJ",
        "colab_type": "text"
      },
      "source": [
        "<center>\n",
        "\n",
        "![Diagram of an HMM for three timesteps](https://github.com/lorenlugosch/pytorch_HMM/blob/master/img/hmm.png?raw=true)\n",
        "</center>"
      ]
    },
    {
      "cell_type": "markdown",
      "metadata": {
        "id": "vMPrA6Uv-u-K",
        "colab_type": "text"
      },
      "source": [
        "An HMM makes two key assumptions:\n",
        "- **Assumption 1:** The state at time $t$ depends *only* on the state at the previous time $t-1$. \n",
        "- **Assumption 2:** The output at time $t$ depends *only* on the state at time $t$.\n",
        "\n",
        "These two assumptions make it possible to efficiently compute certain quantities that we may be interested in."
      ]
    },
    {
      "cell_type": "markdown",
      "metadata": {
        "id": "mRNhSK7LgEIS",
        "colab_type": "text"
      },
      "source": [
        "## Components of an HMM\n",
        "An HMM has three sets of trainable parameters.\n",
        "  \n"
      ]
    },
    {
      "cell_type": "markdown",
      "metadata": {
        "id": "7Pu3zm77vXwp",
        "colab_type": "text"
      },
      "source": [
        "- The **transition model** is a square matrix $A$, where $A_{s, s'}$ represents $p(z_t = s|z_{t-1} = s')$, the probability of jumping from state $s'$ to state $s$. \n",
        "\n",
        "- The **emission model** $b_s(x_t)$ tells us $p(x_t|z_t = s)$, the probability of generating $x_t$ when the system is in state $s$. For discrete observations, which we will use in this notebook, the emission model is just a lookup table, with one row for each state, and one column for each observation. For real-valued observations, it is common to use a Gaussian mixture model or neural network to implement the emission model. \n",
        "\n",
        "- The **state priors** tell us $p(z_1 = s)$, the probability of starting in state $s$. We use $\\pi$ to denote the vector of state priors, so $\\pi_s$ is the state prior for state $s$.\n",
        "\n",
        "Let's program an HMM class in PyTorch."
      ]
    },
    {
      "cell_type": "code",
      "metadata": {
        "id": "aZbW6Pj0og7K",
        "colab_type": "code",
        "colab": {}
      },
      "source": [
        "import torch\n",
        "import numpy as np\n",
        "\n",
        "class HMM(torch.nn.Module):\n",
        "  \"\"\"\n",
        "  Hidden Markov Model with discrete observations.\n",
        "  \"\"\"\n",
        "  def __init__(self, M, N):\n",
        "    super(HMM, self).__init__()\n",
        "    self.M = M # number of possible observations\n",
        "    self.N = N # number of states\n",
        "\n",
        "    # A\n",
        "    self.transition_model = TransitionModel(self.N)\n",
        "\n",
        "    # b(x_t)\n",
        "    self.emission_model = EmissionModel(self.N,self.M)\n",
        "\n",
        "    # pi\n",
        "    self.unnormalized_state_priors = torch.nn.Parameter(torch.randn(self.N))\n",
        "\n",
        "    # use the GPU\n",
        "    self.is_cuda = torch.cuda.is_available()\n",
        "    if self.is_cuda: self.cuda()\n",
        "\n",
        "class TransitionModel(torch.nn.Module):\n",
        "  def __init__(self, N):\n",
        "    super(TransitionModel, self).__init__()\n",
        "    self.N = N\n",
        "    self.unnormalized_transition_matrix = torch.nn.Parameter(torch.randn(N,N))\n",
        "\n",
        "class EmissionModel(torch.nn.Module):\n",
        "  def __init__(self, N, M):\n",
        "    super(EmissionModel, self).__init__()\n",
        "    self.N = N\n",
        "    self.M = M\n",
        "    self.unnormalized_emission_matrix = torch.nn.Parameter(torch.randn(N,M))"
      ],
      "execution_count": 0,
      "outputs": []
    },
    {
      "cell_type": "markdown",
      "metadata": {
        "id": "eom3ueYtpXGo",
        "colab_type": "text"
      },
      "source": [
        "To sample from the HMM, we start by picking a random initial state from the state prior distribution.\n",
        "\n",
        "Then, we sample an output from the emission distribution, sample a transition from the transition distribution, and repeat.\n",
        "\n",
        "(Notice that we pass the unnormalized model parameters through a softmax function to make them into probabilities.)\n"
      ]
    },
    {
      "cell_type": "code",
      "metadata": {
        "id": "BpgkwNyVwmyM",
        "colab_type": "code",
        "colab": {}
      },
      "source": [
        "def sample(self, T=10):\n",
        "  state_priors = torch.nn.functional.softmax(self.unnormalized_state_priors, dim=0)\n",
        "  transition_matrix = torch.nn.functional.softmax(self.transition_model.unnormalized_transition_matrix, dim=0)\n",
        "  emission_matrix = torch.nn.functional.softmax(self.emission_model.unnormalized_emission_matrix, dim=1)\n",
        "\n",
        "  # sample initial state\n",
        "  z_t = torch.distributions.categorical.Categorical(state_priors).sample().item()\n",
        "  z = []; x = []\n",
        "  z.append(z_t)\n",
        "  for t in range(0,T):\n",
        "    # sample emission\n",
        "    x_t = torch.distributions.categorical.Categorical(emission_matrix[z_t]).sample().item()\n",
        "    x.append(x_t)\n",
        "\n",
        "    # sample transition\n",
        "    z_t = torch.distributions.categorical.Categorical(transition_matrix[:,z_t]).sample().item()\n",
        "    if t < T-1: z.append(z_t)\n",
        "\n",
        "  return x, z\n",
        "\n",
        "# Add the sampling method to our HMM class\n",
        "HMM.sample = sample"
      ],
      "execution_count": 0,
      "outputs": []
    },
    {
      "cell_type": "markdown",
      "metadata": {
        "id": "ohsdYScawkRG",
        "colab_type": "text"
      },
      "source": [
        "Let's try hard-coding an HMM for generating fake words. (We'll also add some helper functions for encoding and decoding strings.)\n",
        "\n",
        "We will assume that the system has one state for generating vowels and one state for generating consonants, and the transition matrix has 0s on the diagonal---in other words, the system cannot stay in the vowel state or the consonant state for one than one timestep; it has to switch.\n",
        "\n",
        "Since we pass the transition matrix through a softmax, to get 0s we set the unnormalized parameter values to $-\\infty$."
      ]
    },
    {
      "cell_type": "code",
      "metadata": {
        "id": "eyR7yv_3sBG3",
        "colab_type": "code",
        "outputId": "78ae6d47-2feb-4156-ccae-89f13f197b7c",
        "colab": {
          "base_uri": "https://localhost:8080/",
          "height": 207
        }
      },
      "source": [
        "import string\n",
        "alphabet = string.ascii_lowercase\n",
        "\n",
        "def encode(s):\n",
        "  \"\"\"\n",
        "  Convert a string into a list of integers\n",
        "  \"\"\"\n",
        "  x = [alphabet.index(ss) for ss in s]\n",
        "  return x\n",
        "\n",
        "def decode(x):\n",
        "  \"\"\"\n",
        "  Convert list of ints to string\n",
        "  \"\"\"\n",
        "  s = \"\".join([alphabet[xx] for xx in x])\n",
        "  return s\n",
        "\n",
        "# Initialize the model\n",
        "model = HMM(M=len(alphabet), N=2) \n",
        "\n",
        "# Hard-wiring the parameters!\n",
        "# Let state 0 = consonant, state 1 = vowel\n",
        "model.unnormalized_state_priors[0] = 0.    # Let's start with a consonant more frequently\n",
        "model.unnormalized_state_priors[1] = -0.5\n",
        "print(\"State priors:\", torch.nn.functional.softmax(model.unnormalized_state_priors, dim=0))\n",
        "\n",
        "# In state 0, only allow consonants; in state 1, only allow vowels\n",
        "vowel_indices = torch.tensor([alphabet.index(letter) for letter in \"aeiou\"])\n",
        "consonant_indices = torch.tensor([alphabet.index(letter) for letter in \"bcdfghjklmnpqrstvwxyz\"])\n",
        "model.emission_model.unnormalized_emission_matrix[0, vowel_indices] = -np.inf\n",
        "model.emission_model.unnormalized_emission_matrix[1, consonant_indices] = -np.inf \n",
        "print(\"Emission matrix:\", torch.nn.functional.softmax(model.emission_model.unnormalized_emission_matrix, dim=1))\n",
        "\n",
        "# Only allow vowel -> consonant and consonant -> vowel\n",
        "model.transition_model.unnormalized_transition_matrix[0,0] = -np.inf  # consonant -> consonant\n",
        "model.transition_model.unnormalized_transition_matrix[0,1] = 0.       # vowel -> consonant\n",
        "model.transition_model.unnormalized_transition_matrix[1,0] = 0.       # consonant -> vowel\n",
        "model.transition_model.unnormalized_transition_matrix[1,1] = -np.inf  # vowel -> vowel\n",
        "print(\"Transition matrix:\", torch.nn.functional.softmax(model.transition_model.unnormalized_transition_matrix, dim=0))\n",
        "\n"
      ],
      "execution_count": 0,
      "outputs": [
        {
          "output_type": "stream",
          "text": [
            "State priors: tensor([0.6225, 0.3775], device='cuda:0', grad_fn=<SoftmaxBackward>)\n",
            "Emission matrix: tensor([[0.0000, 0.0896, 0.1045, 0.0080, 0.0000, 0.0454, 0.0211, 0.0725, 0.0000,\n",
            "         0.0305, 0.0452, 0.0340, 0.0340, 0.0068, 0.0000, 0.2051, 0.0106, 0.0567,\n",
            "         0.0259, 0.0527, 0.0000, 0.0185, 0.0388, 0.0331, 0.0641, 0.0027],\n",
            "        [0.1517, 0.0000, 0.0000, 0.0000, 0.2175, 0.0000, 0.0000, 0.0000, 0.2027,\n",
            "         0.0000, 0.0000, 0.0000, 0.0000, 0.0000, 0.2571, 0.0000, 0.0000, 0.0000,\n",
            "         0.0000, 0.0000, 0.1709, 0.0000, 0.0000, 0.0000, 0.0000, 0.0000]],\n",
            "       device='cuda:0', grad_fn=<SoftmaxBackward>)\n",
            "Transition matrix: tensor([[0., 1.],\n",
            "        [1., 0.]], device='cuda:0', grad_fn=<SoftmaxBackward>)\n"
          ],
          "name": "stdout"
        }
      ]
    },
    {
      "cell_type": "markdown",
      "metadata": {
        "id": "KFaYq8jDttmi",
        "colab_type": "text"
      },
      "source": [
        "Try sampling from our hard-coded model:\n"
      ]
    },
    {
      "cell_type": "code",
      "metadata": {
        "id": "8latFMD7ua0X",
        "colab_type": "code",
        "outputId": "0d0277da-c435-404e-d3bd-28e8f3b1e288",
        "colab": {
          "base_uri": "https://localhost:8080/",
          "height": 153
        }
      },
      "source": [
        "# Sample some outputs\n",
        "for _ in range(4):\n",
        "  sampled_x, sampled_z = model.sample(T=5)\n",
        "  print(\"x:\", decode(sampled_x))\n",
        "  print(\"z:\", sampled_z)"
      ],
      "execution_count": 0,
      "outputs": [
        {
          "output_type": "stream",
          "text": [
            "x: xutek\n",
            "z: [0, 1, 0, 1, 0]\n",
            "x: bipuk\n",
            "z: [0, 1, 0, 1, 0]\n",
            "x: pogut\n",
            "z: [0, 1, 0, 1, 0]\n",
            "x: coraw\n",
            "z: [0, 1, 0, 1, 0]\n"
          ],
          "name": "stdout"
        }
      ]
    },
    {
      "cell_type": "markdown",
      "metadata": {
        "id": "hKzlTlfRgZod",
        "colab_type": "text"
      },
      "source": [
        "## The Three Problems\n",
        "\n",
        "In a [classic tutorial](https://www.cs.cmu.edu/~cga/behavior/rabiner1.pdf) on HMMs, Lawrence Rabiner describes \"three problems\" that need to be solved before you can effectively use an HMM. They are:\n",
        "- Problem 1: How do we efficiently compute $p(\\mathbf{x})$?\n",
        "- Problem 2: How do we find the most likely state sequence $\\mathbf{z}$ that could have generated the data? \n",
        "- Problem 3: How do we train the model?\n",
        "\n",
        "In the rest of the notebook, we will see how to solve each problem and implement the solutions in PyTorch."
      ]
    },
    {
      "cell_type": "markdown",
      "metadata": {
        "id": "v_RfIAnmN2RZ",
        "colab_type": "text"
      },
      "source": [
        "### Problem 1: How do we compute $p(\\mathbf{x})$?"
      ]
    },
    {
      "cell_type": "markdown",
      "metadata": {
        "id": "Z3zUUYH0giKV",
        "colab_type": "text"
      },
      "source": [
        "\n",
        "#### *Why?*\n",
        "Why might we care about computing $p(\\mathbf{x})$? Here's two reasons.\n",
        "* Given two HMMs, $\\theta_1$ and $\\theta_2$, we can compute the likelihood of some data $\\mathbf{x}$ under each model, $p_{\\theta_1}(\\mathbf{x})$ and $p_{\\theta_2}(\\mathbf{x})$, to decide which model is a better fit to the data. \n",
        "\n",
        "  (For example, given an HMM for English speech and an HMM for French speech, we could compute the likelihood given each model, and pick the model with the higher likelihood to infer whether the person is speaking English or French.)\n",
        "* Being able to compute $p(\\mathbf{x})$ gives us a way to train the model, as we will see later.\n",
        "\n",
        "#### *How?*\n",
        "Given that we want $p(\\mathbf{x})$, how do we compute it?\n",
        "\n",
        "We've assumed that the data is generated by visiting some sequence of states $\\mathbf{z}$ and picking an output $x_t$ for each $z_t$ from the emission distribution $p(x_t|z_t)$. So if we knew $\\mathbf{z}$, then the probability of $\\mathbf{x}$ could be computed as follows:\n",
        "\n",
        "$$p(\\mathbf{x}|\\mathbf{z}) = \\prod_{t} p(x_t|z_t) p(z_t|z_{t-1})$$\n",
        "\n",
        "However, we don't know $\\mathbf{z}$; it's hidden. But we do know the probability of any given $\\mathbf{z}$, independent of what we observe. So we could get the probability of $\\mathbf{x}$ by summing over the different possibilities for $\\mathbf{z}$, like this:\n",
        "\n",
        "$$p(\\mathbf{x}) = \\sum_{\\mathbf{z}} p(\\mathbf{x}|\\mathbf{z}) p(\\mathbf{z}) = \\sum_{\\mathbf{z}} \\prod_{t} p(x_t|z_t) p(z_t|z_{t-1})$$\n",
        "\n",
        "The problem is: if you try to take that sum directly, you will need to compute $N^T$ terms. This is impossible to do for anything but very short sequences. For example, let's say the sequence is of length $T=100$ and there are $N=2$ possible states. Then we would need to check $N^T = 2^{100} \\approx 10^{30}$ different possible state sequences.\n",
        "\n",
        "We need a way to compute $p(\\mathbf{x})$ that doesn't require us to explicitly calculate all $N^T$ terms. For this, we use the forward algorithm."
      ]
    },
    {
      "cell_type": "markdown",
      "metadata": {
        "id": "DrH0YdUAhS6J",
        "colab_type": "text"
      },
      "source": [
        "________\n",
        "\n",
        "<u><b>The Forward Algorithm</b></u>\n",
        "\n",
        "> for $s=1 \\rightarrow N$:\\\n",
        "> &nbsp;&nbsp;&nbsp;&nbsp;&nbsp;&nbsp;$\\alpha_{s,1} := b_s(x_1) \\cdot \\pi_s$ \n",
        "> \n",
        "> for $t = 2 \\rightarrow T$:\\\n",
        "> &nbsp;&nbsp;&nbsp;&nbsp;&nbsp;&nbsp;for $s = 1 \\rightarrow N$:\\\n",
        "> &nbsp;&nbsp;&nbsp;&nbsp;&nbsp;&nbsp;&nbsp;&nbsp;&nbsp;&nbsp;&nbsp;&nbsp;\n",
        "> $\\alpha_{s,t} := b_s(x_t) \\cdot \\underset{s'}{\\sum} A_{s, s'} \\cdot \\alpha_{s',t-1} $\n",
        "> \n",
        "> $p(\\mathbf{x}) := \\underset{s}{\\sum} \\alpha_{s,T}$\\\n",
        "> return $p(\\mathbf{x})$\n",
        "________\n"
      ]
    },
    {
      "cell_type": "markdown",
      "metadata": {
        "id": "bAdpwRiMn8Vn",
        "colab_type": "text"
      },
      "source": [
        "The forward algorithm is much faster than enumerating all $N^T$ possible state sequences: it requires only $O(N^2T)$ operations to run, since each step is mostly multiplying the vector of forward variables by the transition matrix. (And very often we can reduce that complexity even further, if the transition matrix is sparse.)\n",
        "\n",
        "There is one practical problem with the forward algorithm as presented above: it is prone to underflow due to multiplying a long chain of small numbers, since probabilities are always between 0 and 1. Instead, let's do everything in the log domain. In the log domain, a multiplication becomes a sum, and a sum becomes a [logsumexp](https://en.wikipedia.org/wiki/LogSumExp).  "
      ]
    },
    {
      "cell_type": "markdown",
      "metadata": {
        "id": "FZ8VsLFxA3iT",
        "colab_type": "text"
      },
      "source": [
        "________\n",
        "\n",
        "<u><b>The Forward Algorithm (Log Domain)</b></u>\n",
        "\n",
        "> for $s=1 \\rightarrow N$:\\\n",
        "> &nbsp;&nbsp;&nbsp;&nbsp;&nbsp;&nbsp;$\\text{log }\\alpha_{s,1} := \\text{log }b_s(x_1) + \\text{log }\\pi_s$ \n",
        "> \n",
        "> for $t = 2 \\rightarrow T$:\\\n",
        "> &nbsp;&nbsp;&nbsp;&nbsp;&nbsp;&nbsp;for $s = 1 \\rightarrow N$:\\\n",
        "> &nbsp;&nbsp;&nbsp;&nbsp;&nbsp;&nbsp;&nbsp;&nbsp;&nbsp;&nbsp;&nbsp;&nbsp;\n",
        "> $\\text{log }\\alpha_{s,t} := \\text{log }b_s(x_t) +  \\underset{s'}{\\text{logsumexp}} \\left( \\text{log }A_{s, s'} + \\text{log }\\alpha_{s',t-1} \\right)$\n",
        "> \n",
        "> $\\text{log }p(\\mathbf{x}) := \\underset{s}{\\text{logsumexp}} \\left( \\text{log }\\alpha_{s,T} \\right)$\\\n",
        "> return $\\text{log }p(\\mathbf{x})$\n",
        "________"
      ]
    },
    {
      "cell_type": "markdown",
      "metadata": {
        "id": "g55ik6ZCEiJU",
        "colab_type": "text"
      },
      "source": [
        "Now that we have a numerically stable version of the forward algorithm, let's implement it in PyTorch. "
      ]
    },
    {
      "cell_type": "code",
      "metadata": {
        "id": "3CMdK1EfE1SJ",
        "colab_type": "code",
        "colab": {}
      },
      "source": [
        "def HMM_forward(self, x, T):\n",
        "  \"\"\"\n",
        "  x : IntTensor of shape (batch size, T_max)\n",
        "  T : IntTensor of shape (batch size)\n",
        "\n",
        "  Compute log p(x) for each example in the batch.\n",
        "  T = length of each example\n",
        "  \"\"\"\n",
        "  if self.is_cuda:\n",
        "  \tx = x.cuda()\n",
        "  \tT = T.cuda()\n",
        "\n",
        "  batch_size = x.shape[0]; T_max = x.shape[1]\n",
        "  log_state_priors = torch.nn.functional.log_softmax(self.unnormalized_state_priors, dim=0)\n",
        "  log_alpha = torch.zeros(batch_size, T_max, self.N)\n",
        "  if self.is_cuda: log_alpha = log_alpha.cuda()\n",
        "\n",
        "  log_alpha[:, 0, :] = self.emission_model(x[:,0]) + log_state_priors\n",
        "  for t in range(1, T_max):\n",
        "    log_alpha[:, t, :] = self.emission_model(x[:,t]) + self.transition_model(log_alpha[:, t-1, :])\n",
        "\n",
        "  # Select the sum for the final timestep (each x may have different length).\n",
        "  log_sums = log_alpha.logsumexp(dim=2)\n",
        "  log_probs = torch.gather(log_sums, 1, T.view(-1,1) - 1)\n",
        "  return log_probs\n",
        "\n",
        "def emission_model_forward(self, x_t):\n",
        "  log_emission_matrix = torch.nn.functional.log_softmax(self.unnormalized_emission_matrix, dim=1)\n",
        "  out = log_emission_matrix[:, x_t].transpose(0,1)\n",
        "  return out\n",
        "\n",
        "def transition_model_forward(self, log_alpha):\n",
        "  \"\"\"\n",
        "  log_alpha : Tensor of shape (batch size, N)\n",
        "  Multiply previous timestep's alphas by transition matrix (in log domain)\n",
        "  \"\"\"\n",
        "  log_transition_matrix = torch.nn.functional.log_softmax(self.unnormalized_transition_matrix, dim=0)\n",
        "\n",
        "  # Matrix multiplication in the log domain\n",
        "  out = log_domain_matmul(log_transition_matrix, log_alpha.transpose(0,1)).transpose(0,1)\n",
        "  return out\n",
        "\n",
        "def log_domain_matmul(log_A, log_B):\n",
        "\t\"\"\"\n",
        "\tlog_A : m x n\n",
        "\tlog_B : n x p\n",
        "\toutput : m x p matrix\n",
        "\n",
        "\tNormally, a matrix multiplication\n",
        "\tcomputes out_{i,j} = sum_k A_{i,k} x B_{k,j}\n",
        "\n",
        "\tA log domain matrix multiplication\n",
        "\tcomputes out_{i,j} = logsumexp_k log_A_{i,k} + log_B_{k,j}\n",
        "\t\"\"\"\n",
        "\tm = log_A.shape[0]\n",
        "\tn = log_A.shape[1]\n",
        "\tp = log_B.shape[1]\n",
        "\n",
        "\tlog_A_expanded = torch.stack([log_A] * p, dim=2)\n",
        "\tlog_B_expanded = torch.stack([log_B] * m, dim=0)\n",
        "\n",
        "\telementwise_sum = log_A_expanded + log_B_expanded\n",
        "\tout = torch.logsumexp(elementwise_sum, dim=1)\n",
        "\n",
        "\treturn out\n",
        "\n",
        "TransitionModel.forward = transition_model_forward\n",
        "EmissionModel.forward = emission_model_forward\n",
        "HMM.forward = HMM_forward"
      ],
      "execution_count": 0,
      "outputs": []
    },
    {
      "cell_type": "markdown",
      "metadata": {
        "id": "y-fNnZfqGb1m",
        "colab_type": "text"
      },
      "source": [
        "Try running the forward algorithm on our vowels/consonants model from before:"
      ]
    },
    {
      "cell_type": "code",
      "metadata": {
        "id": "8rMAmf-UGhbw",
        "colab_type": "code",
        "outputId": "c884132d-6414-4a6e-808c-719052a1107c",
        "colab": {
          "base_uri": "https://localhost:8080/",
          "height": 68
        }
      },
      "source": [
        "x = torch.stack( [torch.tensor(encode(\"cat\"))] )\n",
        "T = torch.tensor([3])\n",
        "print(model.forward(x, T))\n",
        "\n",
        "x = torch.stack( [torch.tensor(encode(\"aba\")), torch.tensor(encode(\"abb\"))] )\n",
        "T = torch.tensor([3,3])\n",
        "print(model.forward(x, T))"
      ],
      "execution_count": 0,
      "outputs": [
        {
          "output_type": "stream",
          "text": [
            "tensor([[-7.5605]], device='cuda:0', grad_fn=<GatherBackward>)\n",
            "tensor([[-7.1584],\n",
            "        [   -inf]], device='cuda:0', grad_fn=<GatherBackward>)\n"
          ],
          "name": "stdout"
        }
      ]
    },
    {
      "cell_type": "markdown",
      "metadata": {
        "id": "95TB2gvNHuLn",
        "colab_type": "text"
      },
      "source": [
        "When using the vowel <-> consonant HMM from above, notice that the forward algorithm returns $-\\infty$ for $\\mathbf{x} = \\text{\"abb\"}$. That's because our transition matrix says the probability of vowel -> vowel and consonant -> consonant is 0, so the probability of $\\text{\"abb\"}$ happening is 0, and thus the log probability is $-\\infty$."
      ]
    },
    {
      "cell_type": "markdown",
      "metadata": {
        "id": "qBCrFobsEM8X",
        "colab_type": "text"
      },
      "source": [
        "#### *Side note: deriving the forward algorithm*\n",
        "\n",
        "If you're interested in understanding how the forward algorithm actually computes $p(\\mathbf{x})$, read this section; if not, skip to the next part on \"Problem 2\" (finding the most likely state sequence)."
      ]
    },
    {
      "cell_type": "markdown",
      "metadata": {
        "id": "CpHWWKcxhjkx",
        "colab_type": "text"
      },
      "source": [
        "\n",
        "\n",
        "To derive the forward algorithm, start by deriving the forward variable:\n",
        "\n",
        "$$\\begin{align} \n",
        "    \\alpha_{s,t} &= p(x_1, x_2, \\dots, x_t, z_t=s) \\\\\n",
        "     &= p(x_t | x_1, x_2, \\dots, x_{t-1}, z_t = s) \\cdot p(x_1, x_2, \\dots, x_{t-1}, z_t = s)  \\\\ \n",
        "    &= p(x_t | z_t = s) \\cdot p(x_1, x_2, \\dots, x_{t-1}, z_t = s) \\\\\n",
        "    &= p(x_t | z_t = s) \\cdot \\left( \\sum_{s'} p(x_1, x_2, \\dots, x_{t-1}, z_{t-1}=s', z_t = s) \\right)\\\\\n",
        "    &= p(x_t | z_t = s) \\cdot \\left( \\sum_{s'} p(z_t = s | x_1, x_2, \\dots, x_{t-1}, z_{t-1}=s') \\cdot p(x_1, x_2, \\dots, x_{t-1}, z_{t-1}=s') \\right)\\\\\n",
        "    &= \\underbrace{p(x_t | z_t = s)}_{\\text{emission model}} \\cdot \\left( \\sum_{s'} \\underbrace{p(z_t = s | z_{t-1}=s')}_{\\text{transition model}} \\cdot \\underbrace{p(x_1, x_2, \\dots, x_{t-1}, z_{t-1}=s')}_{\\text{forward variable for previous timestep}} \\right)\\\\\n",
        "    &= b_s(x_t) \\cdot \\left( \\sum_{s'} A_{s, s'} \\cdot \\alpha_{s',t-1} \\right)\n",
        "    \\end{align}$$\n",
        "\n",
        "I'll explain how to get to each line of this equation from the previous line. \n",
        "\n",
        "Line 1 is the definition of the forward variable $\\alpha_{s,t}$.\n",
        "\n",
        "Line 2 is the chain rule ($p(A,B) = p(A|B) \\cdot p(B)$, where $A$ is $x_t$ and $B$ is all the other variables).\n",
        "\n",
        "In Line 3, we apply Assumption 2: the probability of observation $x_t$ depends only on the current state $z_t$.\n",
        "\n",
        "In Line 4, we marginalize over all the possible states in the previous timestep $t-1$.\n",
        "\n",
        "In Line 5, we apply the chain rule again.\n",
        "\n",
        "In Line 6, we apply Assumption 1: the current state depends only on the previous state.\n",
        "\n",
        "In Line 7, we substitute in the emission probability, the transition probability, and the forward variable for the previous timestep, to get the complete recursion."
      ]
    },
    {
      "cell_type": "markdown",
      "metadata": {
        "id": "kh1ovNjWDbIA",
        "colab_type": "text"
      },
      "source": [
        "The formula above can be used for $t = 2 \\rightarrow T$. At $t=1$, there is no previous state, so instead of the transition matrix $A$, we use the state priors $\\pi$, which tell us the probability of starting in each state. Thus for $t=1$, the forward variables are computed as follows:\n",
        "\n",
        "$$\\begin{align} \n",
        "\\alpha_{s,1} &= p(x_1, z_1=s) \\\\\n",
        "  &= p(x_1 | z_1 = s) \\cdot p(z_1 = s)  \\\\ \n",
        "&= b_s(x_1) \\cdot \\pi_s\n",
        "\\end{align}$$"
      ]
    },
    {
      "cell_type": "markdown",
      "metadata": {
        "id": "RRzSqkRkEWKX",
        "colab_type": "text"
      },
      "source": [
        "Finally, to compute $p(\\mathbf{x}) = p(x_1, x_2, \\dots, x_T)$, we marginalize over $\\alpha_{s,T}$, the forward variables computed in the last timestep:\n",
        "\n",
        "$$\\begin{align*} \n",
        "p(\\mathbf{x}) &= \\sum_{s} p(x_1, x_2, \\dots, x_T, z_T = s) \\\\ \n",
        "&= \\sum_{s} \\alpha_{s,T}\n",
        "\\end{align*}$$"
      ]
    },
    {
      "cell_type": "markdown",
      "metadata": {
        "id": "qLBU8Iu7I5Tb",
        "colab_type": "text"
      },
      "source": [
        "You can get from this formulation to the log domain formulation by taking the log of the forward variable, and using these identities:\n",
        "- $\\text{log }(a \\cdot b) = \\text{log }a + \\text{log }b$\n",
        "- $\\text{log }(a + b) = \\text{log }(e^{\\text{log }a} + e^{\\text{log }b}) = \\text{logsumexp}(\\text{log }a, \\text{log }b)$"
      ]
    },
    {
      "cell_type": "markdown",
      "metadata": {
        "id": "bxivzF8hgpiW",
        "colab_type": "text"
      },
      "source": [
        "### Problem 2: How do we compute $\\underset{\\mathbf{z}}{\\text{argmax }} p(\\mathbf{z}|\\mathbf{x})$?"
      ]
    },
    {
      "cell_type": "markdown",
      "metadata": {
        "id": "c1Kv2yyiN7SX",
        "colab_type": "text"
      },
      "source": [
        "Given an observation sequence $\\mathbf{x}$, we may want to find the most likely sequence of states that could have generated $\\mathbf{x}$. (Given the sequence of selfies, we want to infer what cities the friend visited.) In other words, we want $\\underset{\\mathbf{z}}{\\text{argmax }} p(\\mathbf{z}|\\mathbf{x})$.\n",
        "\n",
        "We can use Bayes' rule to rewrite this expression:\n",
        "    $$\\begin{align*} \n",
        "    \\underset{\\mathbf{z}}{\\text{argmax }} p(\\mathbf{z}|\\mathbf{x}) &= \\underset{\\mathbf{z}}{\\text{argmax }} \\frac{p(\\mathbf{x}|\\mathbf{z}) p(\\mathbf{z})}{p(\\mathbf{x})} \\\\ \n",
        "    &= \\underset{\\mathbf{z}}{\\text{argmax }} p(\\mathbf{x}|\\mathbf{z}) p(\\mathbf{z})\n",
        "    \\end{align*}$$\n",
        "\n",
        "Hmm! That last expression, $\\underset{\\mathbf{z}}{\\text{argmax }} p(\\mathbf{x}|\\mathbf{z}) p(\\mathbf{z})$, looks suspiciously similar to the intractable expression we encountered before introducing the forward algorithm, $\\underset{\\mathbf{z}}{\\sum} p(\\mathbf{x}|\\mathbf{z}) p(\\mathbf{z})$.\n",
        "\n",
        "And indeed, just as the intractable *sum* over all $\\mathbf{z}$ can be implemented efficiently using the forward algorithm, so too this intractable *argmax* can be implemented efficiently using a similar divide-and-conquer algorithm: the legendary Viterbi algorithm!"
      ]
    },
    {
      "cell_type": "markdown",
      "metadata": {
        "id": "niKZEX5xWeWR",
        "colab_type": "text"
      },
      "source": [
        "________\n",
        "\n",
        "<u><b>The Viterbi Algorithm</b></u>\n",
        "\n",
        "> for $s=1 \\rightarrow N$:\\\n",
        "> &nbsp;&nbsp;&nbsp;&nbsp;&nbsp;&nbsp;$\\delta_{s,1} := b_s(x_1) \\cdot \\pi_s$\\\n",
        "> &nbsp;&nbsp;&nbsp;&nbsp;&nbsp;&nbsp;$\\psi_{s,1} := 0$\n",
        ">\n",
        "> for $t = 2 \\rightarrow T$:\\\n",
        "> &nbsp;&nbsp;&nbsp;&nbsp;&nbsp;&nbsp;for $s = 1 \\rightarrow N$:\\\n",
        "> &nbsp;&nbsp;&nbsp;&nbsp;&nbsp;&nbsp;&nbsp;&nbsp;&nbsp;&nbsp;&nbsp;&nbsp;$\\delta_{s,t} := b_s(x_t) \\cdot \\left( \\underset{s'}{\\text{max }} A_{s, s'} \\cdot \\delta_{s',t-1} \\right)$\\\n",
        "&nbsp;&nbsp;&nbsp;&nbsp;&nbsp;&nbsp;&nbsp;&nbsp;&nbsp;&nbsp;&nbsp;&nbsp;$\\psi_{s,t} := \\underset{s'}{\\text{argmax }} A_{s, s'} \\cdot \\delta_{s',t-1}$\n",
        "> \n",
        "> $z_T^* := \\underset{s}{\\text{argmax }} \\delta_{s,T}$\\\n",
        "> for $t = T-1 \\rightarrow 1$:\\\n",
        "&nbsp;&nbsp;&nbsp;&nbsp;&nbsp;&nbsp;$z_{t}^* := \\psi_{z_{t+1}^*,t+1}$\n",
        "> \n",
        "> $\\mathbf{z}^* := \\{z_{1}^*, \\dots, z_{T}^* \\}$\\\n",
        "return $\\mathbf{z}^*$\n",
        "________"
      ]
    },
    {
      "cell_type": "markdown",
      "metadata": {
        "id": "UcHVTCucZV6K",
        "colab_type": "text"
      },
      "source": [
        "The Viterbi algorithm looks somewhat gnarlier than the forward algorithm, but it is essentially the same algorithm, with two tweaks: 1) instead of taking the sum over previous states, we take the max; and 2) we record the argmax of the previous states in a table, and loop back over this table at the end to get $\\mathbf{z}^*$, the most likely state sequence. (And like the forward algorithm, we should run the Viterbi algorithm in the log domain for better numerical stability.) "
      ]
    },
    {
      "cell_type": "markdown",
      "metadata": {
        "id": "NlN7IY_JZ5A-",
        "colab_type": "text"
      },
      "source": [
        "Let's add the Viterbi algorithm to our PyTorch model:"
      ]
    },
    {
      "cell_type": "code",
      "metadata": {
        "id": "qeDG8DVmZ-P0",
        "colab_type": "code",
        "colab": {}
      },
      "source": [
        "def viterbi(self, x, T):\n",
        "  \"\"\"\n",
        "  x : IntTensor of shape (batch size, T_max)\n",
        "  T : IntTensor of shape (batch size)\n",
        "  Find argmax_z log p(x|z) for each (x) in the batch.\n",
        "  \"\"\"\n",
        "  if self.is_cuda:\n",
        "    x = x.cuda()\n",
        "    T = T.cuda()\n",
        "\n",
        "  batch_size = x.shape[0]; T_max = x.shape[1]\n",
        "  log_state_priors = torch.nn.functional.log_softmax(self.unnormalized_state_priors, dim=0)\n",
        "  log_delta = torch.zeros(batch_size, T_max, self.N).float()\n",
        "  psi = torch.zeros(batch_size, T_max, self.N).long()\n",
        "  if self.is_cuda:\n",
        "    log_delta = log_delta.cuda()\n",
        "    psi = psi.cuda()\n",
        "\n",
        "  log_delta[:, 0, :] = self.emission_model(x[:,0]) + log_state_priors\n",
        "  for t in range(1, T_max):\n",
        "    max_val, argmax_val = self.transition_model.maxmul(log_delta[:, t-1, :])\n",
        "    log_delta[:, t, :] = self.emission_model(x[:,t]) + max_val\n",
        "    psi[:, t, :] = argmax_val\n",
        "\n",
        "  # Get the log probability of the best path\n",
        "  log_max = log_delta.max(dim=2)[0]\n",
        "  best_path_scores = torch.gather(log_max, 1, T.view(-1,1) - 1)\n",
        "\n",
        "  # This next part is a bit tricky to parallelize across the batch,\n",
        "  # so we will do it separately for each example.\n",
        "  z_star = []\n",
        "  for i in range(0, batch_size):\n",
        "    z_star_i = [ log_delta[i, T[i] - 1, :].max(dim=0)[1].item() ]\n",
        "    for t in range(T[i] - 1, 0, -1):\n",
        "      z_t = psi[i, t, z_star_i[0]].item()\n",
        "      z_star_i.insert(0, z_t)\n",
        "\n",
        "    z_star.append(z_star_i)\n",
        "\n",
        "  return z_star, best_path_scores # return both the best path and its log probability\n",
        "\n",
        "def transition_model_maxmul(self, log_alpha):\n",
        "  log_transition_matrix = torch.nn.functional.log_softmax(self.unnormalized_transition_matrix, dim=0)\n",
        "\n",
        "  out1, out2 = maxmul(log_transition_matrix, log_alpha.transpose(0,1))\n",
        "  return out1.transpose(0,1), out2.transpose(0,1)\n",
        "\n",
        "def maxmul(log_A, log_B):\n",
        "\t\"\"\"\n",
        "\tlog_A : m x n\n",
        "\tlog_B : n x p\n",
        "\toutput : m x p matrix\n",
        "\n",
        "\tSimilar to the log domain matrix multiplication,\n",
        "\tthis computes out_{i,j} = max_k log_A_{i,k} + log_B_{k,j}\n",
        "\t\"\"\"\n",
        "\tm = log_A.shape[0]\n",
        "\tn = log_A.shape[1]\n",
        "\tp = log_B.shape[1]\n",
        "\n",
        "\tlog_A_expanded = torch.stack([log_A] * p, dim=2)\n",
        "\tlog_B_expanded = torch.stack([log_B] * m, dim=0)\n",
        "\n",
        "\telementwise_sum = log_A_expanded + log_B_expanded\n",
        "\tout1,out2 = torch.max(elementwise_sum, dim=1)\n",
        "\n",
        "\treturn out1,out2\n",
        "\n",
        "TransitionModel.maxmul = transition_model_maxmul\n",
        "HMM.viterbi = viterbi"
      ],
      "execution_count": 0,
      "outputs": []
    },
    {
      "cell_type": "markdown",
      "metadata": {
        "id": "uTGOaeXbaWie",
        "colab_type": "text"
      },
      "source": [
        "Try running Viterbi on an input sequence, given the vowel/consonant HMM:"
      ]
    },
    {
      "cell_type": "code",
      "metadata": {
        "id": "zeOTbaIMc23d",
        "colab_type": "code",
        "outputId": "3cb69cb3-7483-4051-fec8-31703c718a0f",
        "colab": {
          "base_uri": "https://localhost:8080/",
          "height": 51
        }
      },
      "source": [
        "x = torch.stack( [torch.tensor(encode(\"aba\")), torch.tensor(encode(\"abb\"))] )\n",
        "T = torch.tensor([3,3])\n",
        "print(model.viterbi(x, T))"
      ],
      "execution_count": 0,
      "outputs": [
        {
          "output_type": "stream",
          "text": [
            "([[1, 0, 1], [1, 0, 0]], tensor([[-7.1584],\n",
            "        [   -inf]], device='cuda:0', grad_fn=<GatherBackward>))\n"
          ],
          "name": "stdout"
        }
      ]
    },
    {
      "cell_type": "markdown",
      "metadata": {
        "id": "fKr8YlafdzBx",
        "colab_type": "text"
      },
      "source": [
        "For $\\mathbf{x} = \\text{\"aba\"}$, the Viterbi algorithm returns $\\mathbf{z}^* = \\{1,0,1\\}$. This corresponds to \"vowel, consonant, vowel\" according to the way we defined the states above, which is correct for this input sequence. Yay!\n",
        "\n",
        "For $\\mathbf{x} = \\text{\"abb\"}$, the Viterbi algorithm still returns a $\\mathbf{z}^*$, but we know this is gibberish because \"vowel, consonant, consonant\" is impossible under this HMM, and indeed the log probability of this path is $-\\infty$."
      ]
    },
    {
      "cell_type": "markdown",
      "metadata": {
        "id": "nCWw0_WienO_",
        "colab_type": "text"
      },
      "source": [
        "Let's compare the \"forward score\" (the log probability of all possible paths, returned by the forward algorithm) with the \"Viterbi score\" (the log probability of the maximum likelihood path, returned by the Viterbi algorithm):"
      ]
    },
    {
      "cell_type": "code",
      "metadata": {
        "id": "L9fBOHvdeqWC",
        "colab_type": "code",
        "outputId": "5b331132-f80f-4d78-d977-f36dc56b3f80",
        "colab": {
          "base_uri": "https://localhost:8080/",
          "height": 85
        }
      },
      "source": [
        "print(model.forward(x, T))\n",
        "print(model.viterbi(x, T)[1])"
      ],
      "execution_count": 0,
      "outputs": [
        {
          "output_type": "stream",
          "text": [
            "tensor([[-7.1584],\n",
            "        [   -inf]], device='cuda:0', grad_fn=<GatherBackward>)\n",
            "tensor([[-7.1584],\n",
            "        [   -inf]], device='cuda:0', grad_fn=<GatherBackward>)\n"
          ],
          "name": "stdout"
        }
      ]
    },
    {
      "cell_type": "markdown",
      "metadata": {
        "id": "InF6PJVOfHwH",
        "colab_type": "text"
      },
      "source": [
        "The two scores are the same! That's because in this instance there is only one possible path through the HMM, so the probability of the most likely path is the same as the sum of the probabilities of all possible paths.\n",
        "\n",
        "In general, though, the forward score and Viterbi score will always be somewhat close. This is because of a property of the $\\text{logsumexp}$ function: $\\text{logsumexp}(\\mathbf{x}) \\approx \\max (\\mathbf{x})$. ($\\text{logsumexp}$ is sometimes referred to as the \"smooth maximum\" function.)"
      ]
    },
    {
      "cell_type": "code",
      "metadata": {
        "id": "x__70tB6gnkF",
        "colab_type": "code",
        "outputId": "3a218588-aad1-426a-f0d6-d71fb7b20124",
        "colab": {
          "base_uri": "https://localhost:8080/",
          "height": 51
        }
      },
      "source": [
        "x = torch.tensor([1., 2., 3.])\n",
        "print(x.max(dim=0)[0])\n",
        "print(x.logsumexp(dim=0))"
      ],
      "execution_count": 0,
      "outputs": [
        {
          "output_type": "stream",
          "text": [
            "tensor(3.)\n",
            "tensor(3.4076)\n"
          ],
          "name": "stdout"
        }
      ]
    },
    {
      "cell_type": "markdown",
      "metadata": {
        "id": "SvFtiWhzgy0V",
        "colab_type": "text"
      },
      "source": [
        "### Problem 3: How do we train the model?\n",
        "\n",
        "\n",
        "\n"
      ]
    },
    {
      "cell_type": "markdown",
      "metadata": {
        "id": "r3JaykRalSBZ",
        "colab_type": "text"
      },
      "source": [
        "Earlier, we hard-coded an HMM to have certain behavior. What we would like to do instead is have the HMM learn to model the data on its own. And while it is possible to use supervised learning with an HMM (by hard-coding the emission model or the transition model) so that the states have a particular interpretation, the really cool thing about HMMs is that they are naturally unsupervised learners, so they can learn to use their different states to represent different patterns in the data, without the programmer needing to indicate what each state means."
      ]
    },
    {
      "cell_type": "markdown",
      "metadata": {
        "id": "8K471fT4N-PR",
        "colab_type": "text"
      },
      "source": [
        "Like many machine learning models, an HMM can be trained using maximum likelihood estimation, i.e.:\n",
        "\n",
        "$$\\theta^* = \\underset{\\theta}{\\text{argmin }} -\\sum_{\\mathbf{x}^i}\\text{log }p_{\\theta}(\\mathbf{x}^i)$$\n",
        "\n",
        "where $\\mathbf{x}^1, \\mathbf{x}^2, \\dots$ are training examples. \n",
        "\n",
        "The standard method for doing this is the Expectation-Maximization (EM) algorithm, which for HMMs is also called the \"Baum-Welch\" algorithm. In EM training, we alternate between an \"E-step\", where we estimate the values of the latent variables, and an \"M-step\", where the model parameters are updated given the estimated latent variables. (Think $k$-means, where you guess which cluster each data point belongs to, then reestimate where the clusters are, and repeat.) The EM algorithm has some nice properties: it is guaranteed at each step to decrease the loss function, and the E-step and M-step may have an exact closed form solution, in which case no pesky learning rates are required.\n",
        "\n",
        "But because the HMM forward algorithm is differentiable with respect to all the model parameters, we can also just take advantage of automatic differentiation methods in libraries like PyTorch and try to minimize $-\\text{log }p_{\\theta}(\\mathbf{x})$ directly, by backpropagating through the forward algorithm and running stochastic gradient descent. That means we don't need to write any additional HMM code to implement training: `loss.backward()` is all you need."
      ]
    },
    {
      "cell_type": "markdown",
      "metadata": {
        "id": "aVh0-369qZDC",
        "colab_type": "text"
      },
      "source": [
        "Here we will implement SGD training for an HMM in PyTorch. First, some helper classes:"
      ]
    },
    {
      "cell_type": "code",
      "metadata": {
        "id": "KqiFobGHwdzc",
        "colab_type": "code",
        "colab": {}
      },
      "source": [
        "import torch.utils.data\n",
        "from collections import Counter\n",
        "from sklearn.model_selection import train_test_split\n",
        "\n",
        "class TextDataset(torch.utils.data.Dataset):\n",
        "  def __init__(self, lines):\n",
        "    self.lines = lines # list of strings\n",
        "    collate = Collate() # function for generating a minibatch from strings\n",
        "    self.loader = torch.utils.data.DataLoader(self, batch_size=1024, num_workers=1, shuffle=True, collate_fn=collate)\n",
        "\n",
        "  def __len__(self):\n",
        "    return len(self.lines)\n",
        "\n",
        "  def __getitem__(self, idx):\n",
        "    line = self.lines[idx].lstrip(\" \").rstrip(\"\\n\").rstrip(\" \").rstrip(\"\\n\")\n",
        "    return line\n",
        "\n",
        "class Collate:\n",
        "  def __init__(self):\n",
        "    pass\n",
        "\n",
        "  def __call__(self, batch):\n",
        "    \"\"\"\n",
        "    Returns a minibatch of strings, padded to have the same length.\n",
        "    \"\"\"\n",
        "    x = []\n",
        "    batch_size = len(batch)\n",
        "    for index in range(batch_size):\n",
        "      x_ = batch[index]\n",
        "\n",
        "      # convert letters to integers\n",
        "      x.append(encode(x_))\n",
        "\n",
        "    # pad all sequences with 0 to have same length\n",
        "    x_lengths = [len(x_) for x_ in x]\n",
        "    T = max(x_lengths)\n",
        "    for index in range(batch_size):\n",
        "      x[index] += [0] * (T - len(x[index]))\n",
        "      x[index] = torch.tensor(x[index])\n",
        "\n",
        "    # stack into single tensor\n",
        "    x = torch.stack(x)\n",
        "    x_lengths = torch.tensor(x_lengths)\n",
        "    return (x,x_lengths)"
      ],
      "execution_count": 0,
      "outputs": []
    },
    {
      "cell_type": "markdown",
      "metadata": {
        "id": "YpDpwnPnAEA9",
        "colab_type": "text"
      },
      "source": [
        "Let's load some training/testing data. By default, this will use the unix \"words\" file, but you could also use your own text file."
      ]
    },
    {
      "cell_type": "code",
      "metadata": {
        "id": "52NqFHg8ANsB",
        "colab_type": "code",
        "outputId": "dfe5aba1-759d-4dd2-fdf2-9e2294453feb",
        "colab": {
          "base_uri": "https://localhost:8080/",
          "height": 224
        }
      },
      "source": [
        "!wget https://raw.githubusercontent.com/lorenlugosch/pytorch_HMM/master/data/train/training.txt\n",
        "\n",
        "filename = \"training.txt\"\n",
        "\n",
        "with open(filename, \"r\") as f:\n",
        "  lines = f.readlines() # each line of lines will have one word\n",
        "\n",
        "alphabet = list(Counter((\"\".join(lines))).keys())\n",
        "train_lines, valid_lines = train_test_split(lines, test_size=0.1, random_state=42)\n",
        "train_dataset = TextDataset(train_lines)\n",
        "valid_dataset = TextDataset(valid_lines)\n",
        "\n",
        "M = len(alphabet)"
      ],
      "execution_count": 0,
      "outputs": [
        {
          "output_type": "stream",
          "text": [
            "--2020-02-17 15:17:50--  https://raw.githubusercontent.com/lorenlugosch/pytorch_HMM/master/data/train/training.txt\n",
            "Resolving raw.githubusercontent.com (raw.githubusercontent.com)... 151.101.0.133, 151.101.64.133, 151.101.128.133, ...\n",
            "Connecting to raw.githubusercontent.com (raw.githubusercontent.com)|151.101.0.133|:443... connected.\n",
            "HTTP request sent, awaiting response... 200 OK\n",
            "Length: 2493109 (2.4M) [text/plain]\n",
            "Saving to: ‘training.txt’\n",
            "\n",
            "training.txt        100%[===================>]   2.38M  --.-KB/s    in 0.1s    \n",
            "\n",
            "2020-02-17 15:17:50 (24.5 MB/s) - ‘training.txt’ saved [2493109/2493109]\n",
            "\n"
          ],
          "name": "stdout"
        }
      ]
    },
    {
      "cell_type": "markdown",
      "metadata": {
        "id": "H0AqmyrK7IUn",
        "colab_type": "text"
      },
      "source": [
        "We will use a Trainer class for training and testing the model:\n",
        "\n"
      ]
    },
    {
      "cell_type": "code",
      "metadata": {
        "id": "iypy_neX9cpq",
        "colab_type": "code",
        "colab": {}
      },
      "source": [
        "from tqdm import tqdm # for displaying progress bar\n",
        "\n",
        "class Trainer:\n",
        "  def __init__(self, model, lr):\n",
        "    self.model = model\n",
        "    self.lr = lr\n",
        "    self.optimizer = torch.optim.Adam(model.parameters(), lr=self.lr, weight_decay=0.00001)\n",
        "  \n",
        "  def train(self, dataset):\n",
        "    train_loss = 0\n",
        "    num_samples = 0\n",
        "    self.model.train()\n",
        "    print_interval = 50\n",
        "    for idx, batch in enumerate(tqdm(dataset.loader)):\n",
        "      x,T = batch\n",
        "      batch_size = len(x)\n",
        "      num_samples += batch_size\n",
        "      log_probs = self.model(x,T)\n",
        "      loss = -log_probs.mean()\n",
        "      self.optimizer.zero_grad()\n",
        "      loss.backward()\n",
        "      self.optimizer.step()\n",
        "      train_loss += loss.cpu().data.numpy().item() * batch_size\n",
        "      if idx % print_interval == 0:\n",
        "        print(\"loss:\", loss.item())\n",
        "        for _ in range(5):\n",
        "          sampled_x, sampled_z = self.model.sample()\n",
        "          print(decode(sampled_x))\n",
        "          print(sampled_z)\n",
        "    train_loss /= num_samples\n",
        "    return train_loss\n",
        "\n",
        "  def test(self, dataset):\n",
        "    test_loss = 0\n",
        "    num_samples = 0\n",
        "    self.model.eval()\n",
        "    print_interval = 50\n",
        "    for idx, batch in enumerate(dataset.loader):\n",
        "      x,T = batch\n",
        "      batch_size = len(x)\n",
        "      num_samples += batch_size\n",
        "      log_probs = self.model(x,T)\n",
        "      loss = -log_probs.mean()\n",
        "      test_loss += loss.cpu().data.numpy().item() * batch_size\n",
        "      if idx % print_interval == 0:\n",
        "        print(\"loss:\", loss.item())\n",
        "        sampled_x, sampled_z = self.model.sample()\n",
        "        print(decode(sampled_x))\n",
        "        print(sampled_z)\n",
        "    test_loss /= num_samples\n",
        "    return test_loss"
      ],
      "execution_count": 0,
      "outputs": []
    },
    {
      "cell_type": "markdown",
      "metadata": {
        "id": "mUR8qbHm9dMg",
        "colab_type": "text"
      },
      "source": [
        "Finally, initialize the model and run the main training loop. Every 50 batches, the code will produce a few samples from the model. Over time, these samples should look more and more realistic."
      ]
    },
    {
      "cell_type": "code",
      "metadata": {
        "id": "1-NGIK1Q9g2C",
        "colab_type": "code",
        "outputId": "357cf473-b2bb-41a9-c9a0-9211365362e5",
        "colab": {
          "base_uri": "https://localhost:8080/",
          "height": 1000
        }
      },
      "source": [
        "# Initialize model\n",
        "model = HMM(N=64, M=M)\n",
        "\n",
        "# Train the model\n",
        "num_epochs = 10\n",
        "trainer = Trainer(model, lr=0.01)\n",
        "\n",
        "for epoch in range(num_epochs):\n",
        "        print(\"========= Epoch %d of %d =========\" % (epoch+1, num_epochs))\n",
        "        train_loss = trainer.train(train_dataset)\n",
        "        valid_loss = trainer.test(valid_dataset)\n",
        "\n",
        "        print(\"========= Results: epoch %d of %d =========\" % (epoch+1, num_epochs))\n",
        "        print(\"train loss: %.2f| valid loss: %.2f\\n\" % (train_loss, valid_loss) )"
      ],
      "execution_count": 0,
      "outputs": [
        {
          "output_type": "stream",
          "text": [
            "\r  0%|          | 0/208 [00:00<?, ?it/s]"
          ],
          "name": "stderr"
        },
        {
          "output_type": "stream",
          "text": [
            "========= Epoch 1 of 10 =========\n"
          ],
          "name": "stdout"
        },
        {
          "output_type": "stream",
          "text": [
            "\r  0%|          | 1/208 [00:00<01:21,  2.53it/s]"
          ],
          "name": "stderr"
        },
        {
          "output_type": "stream",
          "text": [
            "loss: 37.83818817138672\n",
            "CnJDVadnIj\n",
            "[18, 25, 11, 54, 20, 3, 10, 49, 0, 2]\n",
            "\n",
            "RobzPWmmX\n",
            "[55, 43, 56, 61, 38, 54, 21, 21, 31, 63]\n",
            "wnWnwDCoBM\n",
            "[14, 33, 58, 63, 21, 23, 17, 32, 43, 63]\n",
            "hLcxLtbumv\n",
            "[58, 53, 61, 34, 1, 48, 48, 62, 15, 58]\n",
            "wM-fUt-tLr\n",
            "[27, 5, 14, 45, 43, 27, 51, 51, 54, 24]\n"
          ],
          "name": "stdout"
        },
        {
          "output_type": "stream",
          "text": [
            " 25%|██▍       | 51/208 [00:13<00:43,  3.57it/s]"
          ],
          "name": "stderr"
        },
        {
          "output_type": "stream",
          "text": [
            "loss: 32.814849853515625\n",
            "utrsceValB\n",
            "[45, 5, 14, 22, 56, 5, 45, 42, 44, 50]\n",
            "gbUnHnDDYM\n",
            "[46, 8, 54, 56, 44, 29, 0, 26, 33, 46]\n",
            "svgrSPKyHD\n",
            "[26, 19, 37, 50, 50, 56, 44, 19, 52, 63]\n",
            "PSAIyXlCHu\n",
            "[15, 39, 35, 20, 29, 13, 37, 17, 26, 46]\n",
            "IjiHtZ-nio\n",
            "[7, 37, 19, 6, 54, 12, 44, 27, 3, 46]\n"
          ],
          "name": "stdout"
        },
        {
          "output_type": "stream",
          "text": [
            " 49%|████▊     | 101/208 [00:27<00:29,  3.63it/s]"
          ],
          "name": "stderr"
        },
        {
          "output_type": "stream",
          "text": [
            "loss: 29.635101318359375\n",
            "IaryUenEVo\n",
            "[18, 22, 27, 3, 27, 46, 14, 6, 35, 46]\n",
            "UiePuZneiI\n",
            "[16, 42, 21, 3, 7, 58, 3, 29, 4, 27]\n",
            "stliozerda\n",
            "[22, 16, 5, 4, 23, 53, 63, 44, 48, 2]\n",
            "pzpurSsloo\n",
            "[26, 34, 12, 29, 15, 22, 6, 21, 3, 12]\n",
            "biboakqVhl\n",
            "[7, 5, 55, 2, 6, 35, 46, 26, 33, 21]\n"
          ],
          "name": "stdout"
        },
        {
          "output_type": "stream",
          "text": [
            " 73%|███████▎  | 151/208 [00:40<00:14,  3.87it/s]"
          ],
          "name": "stderr"
        },
        {
          "output_type": "stream",
          "text": [
            "loss: 28.170347213745117\n",
            "puHpurjlos\n",
            "[32, 46, 15, 35, 46, 15, 63, 27, 34, 15]\n",
            "pibpaitrei\n",
            "[62, 44, 8, 44, 21, 44, 6, 35, 46, 44]\n",
            "bensPeaeos\n",
            "[48, 46, 15, 22, 35, 38, 53, 35, 46, 15]\n",
            "lirrtaqoci\n",
            "[62, 34, 46, 15, 22, 53, 22, 2, 14, 63]\n",
            "purlayIlXd\n",
            "[48, 46, 15, 22, 27, 14, 22, 21, 4, 10]\n"
          ],
          "name": "stdout"
        },
        {
          "output_type": "stream",
          "text": [
            " 97%|█████████▋| 201/208 [00:53<00:01,  3.59it/s]"
          ],
          "name": "stderr"
        },
        {
          "output_type": "stream",
          "text": [
            "loss: 26.471345901489258\n",
            "geresodePc\n",
            "[31, 63, 40, 63, 15, 3, 31, 63, 27, 14]\n",
            "sertVmelpn\n",
            "[48, 46, 15, 26, 27, 35, 46, 15, 26, 38]\n",
            "qabdellyni\n",
            "[48, 34, 24, 10, 21, 44, 21, 4, 27, 42]\n",
            "untenomcmy\n",
            "[62, 27, 16, 46, 27, 46, 15, 57, 54, 4]\n",
            "Pubndytang\n",
            "[48, 46, 26, 27, 31, 4, 61, 46, 27, 18]\n"
          ],
          "name": "stdout"
        },
        {
          "output_type": "stream",
          "text": [
            "100%|██████████| 208/208 [00:55<00:00,  4.68it/s]\n"
          ],
          "name": "stderr"
        },
        {
          "output_type": "stream",
          "text": [
            "loss: 26.017606735229492\n",
            "inzilanuru\n",
            "[63, 27, 61, 63, 2, 34, 27, 46, 15, 16]\n"
          ],
          "name": "stdout"
        },
        {
          "output_type": "stream",
          "text": [
            "\r  0%|          | 0/208 [00:00<?, ?it/s]"
          ],
          "name": "stderr"
        },
        {
          "output_type": "stream",
          "text": [
            "========= Results: epoch 1 of 10 =========\n",
            "train loss: 30.53| valid loss: 26.40\n",
            "\n",
            "========= Epoch 2 of 10 =========\n"
          ],
          "name": "stdout"
        },
        {
          "output_type": "stream",
          "text": [
            "\r  0%|          | 1/208 [00:00<01:14,  2.77it/s]"
          ],
          "name": "stderr"
        },
        {
          "output_type": "stream",
          "text": [
            "loss: 26.479572296142578\n",
            "lplincirmn\n",
            "[22, 26, 33, 34, 29, 5, 4, 15, 4, 27]\n",
            "unauatorbu\n",
            "[49, 18, 42, 14, 42, 29, 3, 15, 54, 53]\n",
            "tecu-elibk\n",
            "[26, 46, 41, 46, 53, 22, 2, 34, 56, 44]\n",
            "thgUrencgo\n",
            "[26, 33, 21, 46, 15, 63, 27, 16, 51, 34]\n",
            "rtafltoBee\n",
            "[15, 14, 34, 45, 44, 29, 46, 44, 21, 4]\n"
          ],
          "name": "stdout"
        },
        {
          "output_type": "stream",
          "text": [
            " 25%|██▍       | 51/208 [00:13<00:41,  3.76it/s]"
          ],
          "name": "stderr"
        },
        {
          "output_type": "stream",
          "text": [
            "loss: 25.50018310546875\n",
            "anEitorisZ\n",
            "[49, 27, 31, 63, 35, 46, 44, 4, 15, 63]\n",
            "ropoberpsi\n",
            "[48, 46, 15, 3, 31, 63, 15, 26, 15, 4]\n",
            "uionwemidn\n",
            "[49, 25, 34, 27, 31, 3, 31, 63, 10, 63]\n",
            "alcireytlt\n",
            "[46, 15, 35, 46, 44, 21, 4, 22, 5, 14]\n",
            "beweleones\n",
            "[62, 63, 31, 63, 44, 21, 3, 31, 63, 15]\n"
          ],
          "name": "stdout"
        },
        {
          "output_type": "stream",
          "text": [
            " 49%|████▊     | 101/208 [00:27<00:31,  3.40it/s]"
          ],
          "name": "stderr"
        },
        {
          "output_type": "stream",
          "text": [
            "loss: 24.771900177001953\n",
            "SYbrinibby\n",
            "[48, 34, 45, 44, 42, 31, 46, 45, 44, 19]\n",
            "niniswetus\n",
            "[31, 63, 27, 46, 15, 35, 63, 27, 46, 15]\n",
            "soborsliig\n",
            "[62, 34, 38, 46, 44, 53, 5, 4, 34, 18]\n",
            "chiceuspuo\n",
            "[48, 33, 14, 61, 46, 46, 15, 48, 46, 34]\n",
            "sangmaropc\n",
            "[2, 34, 27, 58, 7, 46, 44, 46, 15, 14]\n"
          ],
          "name": "stdout"
        },
        {
          "output_type": "stream",
          "text": [
            " 73%|███████▎  | 151/208 [00:40<00:15,  3.62it/s]"
          ],
          "name": "stderr"
        },
        {
          "output_type": "stream",
          "text": [
            "loss: 24.587112426757812\n",
            "unigJzerpa\n",
            "[49, 27, 63, 26, 33, 61, 63, 15, 26, 34]\n",
            "uasmdencBn\n",
            "[62, 46, 15, 50, 10, 46, 15, 2, 34, 27]\n",
            "suststyotu\n",
            "[48, 53, 22, 35, 22, 5, 4, 5, 26, 46]\n",
            "crowhiolap\n",
            "[26, 33, 3, 26, 33, 2, 34, 29, 6, 35]\n",
            "Qiresononi\n",
            "[48, 46, 15, 26, 15, 3, 29, 34, 27, 63]\n"
          ],
          "name": "stdout"
        },
        {
          "output_type": "stream",
          "text": [
            " 97%|█████████▋| 201/208 [00:54<00:01,  3.61it/s]"
          ],
          "name": "stderr"
        },
        {
          "output_type": "stream",
          "text": [
            "loss: 24.65005111694336\n",
            "peptismigy\n",
            "[26, 63, 15, 35, 14, 22, 7, 42, 29, 4]\n",
            "proekicaki\n",
            "[26, 33, 46, 63, 15, 4, 61, 6, 44, 42]\n",
            "chRngIveif\n",
            "[26, 33, 42, 27, 58, 0, 23, 21, 4, 5]\n",
            "niusphideg\n",
            "[31, 63, 53, 22, 35, 33, 63, 31, 63, 15]\n",
            "fapeleauca\n",
            "[48, 34, 26, 46, 44, 21, 3, 53, 61, 46]\n"
          ],
          "name": "stdout"
        },
        {
          "output_type": "stream",
          "text": [
            "100%|██████████| 208/208 [00:55<00:00,  4.52it/s]\n"
          ],
          "name": "stderr"
        },
        {
          "output_type": "stream",
          "text": [
            "loss: 24.449634552001953\n",
            "Costaparra\n",
            "[48, 46, 15, 35, 46, 24, 26, 33, 12, 34]\n"
          ],
          "name": "stdout"
        },
        {
          "output_type": "stream",
          "text": [
            "\r  0%|          | 0/208 [00:00<?, ?it/s]"
          ],
          "name": "stderr"
        },
        {
          "output_type": "stream",
          "text": [
            "========= Results: epoch 2 of 10 =========\n",
            "train loss: 25.07| valid loss: 24.47\n",
            "\n",
            "========= Epoch 3 of 10 =========\n"
          ],
          "name": "stdout"
        },
        {
          "output_type": "stream",
          "text": [
            "\r  0%|          | 1/208 [00:00<01:13,  2.80it/s]"
          ],
          "name": "stderr"
        },
        {
          "output_type": "stream",
          "text": [
            "loss: 24.374300003051758\n",
            "prulesange\n",
            "[48, 33, 46, 44, 46, 15, 34, 27, 58, 63]\n",
            "jomucrlasi\n",
            "[48, 46, 31, 46, 15, 33, 2, 46, 15, 14]\n",
            "soryithode\n",
            "[48, 46, 15, 4, 22, 35, 33, 3, 31, 63]\n",
            "unceyiphiz\n",
            "[49, 27, 26, 46, 17, 42, 26, 33, 42, 61]\n",
            "tissanarip\n",
            "[26, 46, 15, 22, 6, 35, 46, 15, 42, 35]\n"
          ],
          "name": "stdout"
        },
        {
          "output_type": "stream",
          "text": [
            " 25%|██▍       | 51/208 [00:13<00:47,  3.31it/s]"
          ],
          "name": "stderr"
        },
        {
          "output_type": "stream",
          "text": [
            "loss: 24.072898864746094\n",
            "wroneneste\n",
            "[26, 33, 3, 35, 63, 27, 63, 15, 35, 42]\n",
            "caovadiarc\n",
            "[48, 46, 3, 31, 42, 31, 14, 34, 15, 26]\n",
            "GWlerlgrca\n",
            "[48, 46, 44, 63, 15, 31, 63, 15, 61, 6]\n",
            "changokers\n",
            "[26, 33, 34, 27, 58, 34, 36, 63, 15, 35]\n",
            "Lrsophiali\n",
            "[48, 15, 26, 34, 26, 33, 2, 6, 44, 42]\n"
          ],
          "name": "stdout"
        },
        {
          "output_type": "stream",
          "text": [
            " 49%|████▊     | 101/208 [00:27<00:29,  3.64it/s]"
          ],
          "name": "stderr"
        },
        {
          "output_type": "stream",
          "text": [
            "loss: 24.010425567626953\n",
            "slyeezarvi\n",
            "[22, 21, 19, 21, 46, 61, 6, 44, 31, 42]\n",
            "lediFlefli\n",
            "[48, 46, 29, 14, 6, 44, 63, 10, 21, 4]\n",
            "suctenphos\n",
            "[48, 46, 15, 35, 63, 27, 26, 33, 46, 15]\n",
            "valilrobbu\n",
            "[31, 46, 44, 4, 61, 33, 46, 24, 51, 46]\n",
            "esadicsest\n",
            "[46, 15, 42, 31, 14, 61, 35, 63, 15, 35]\n"
          ],
          "name": "stdout"
        },
        {
          "output_type": "stream",
          "text": [
            " 73%|███████▎  | 151/208 [00:40<00:15,  3.58it/s]"
          ],
          "name": "stderr"
        },
        {
          "output_type": "stream",
          "text": [
            "loss: 24.108936309814453\n",
            "mRerphammi\n",
            "[7, 32, 63, 15, 26, 33, 46, 7, 7, 4]\n",
            "moeteinert\n",
            "[48, 46, 63, 15, 14, 34, 27, 63, 15, 35]\n",
            "uniztinalQ\n",
            "[62, 12, 42, 61, 35, 42, 29, 6, 44, 21]\n",
            "Dralhysaso\n",
            "[62, 12, 46, 15, 33, 19, 35, 6, 35, 46]\n",
            "chissicabs\n",
            "[26, 33, 46, 15, 35, 42, 61, 46, 24, 14]\n"
          ],
          "name": "stdout"
        },
        {
          "output_type": "stream",
          "text": [
            " 97%|█████████▋| 201/208 [00:54<00:01,  3.55it/s]"
          ],
          "name": "stderr"
        },
        {
          "output_type": "stream",
          "text": [
            "loss: 23.95977783203125\n",
            "hcheddemiY\n",
            "[33, 26, 33, 63, 10, 31, 63, 31, 42, 61]\n",
            "disyscXomi\n",
            "[48, 46, 15, 19, 15, 26, 33, 3, 7, 42]\n",
            "cangitesmi\n",
            "[48, 34, 27, 35, 42, 35, 63, 22, 7, 42]\n",
            "Gueleronin\n",
            "[48, 46, 63, 44, 63, 15, 3, 29, 42, 29]\n",
            "isulwisaza\n",
            "[46, 15, 46, 44, 21, 4, 35, 42, 61, 6]\n"
          ],
          "name": "stdout"
        },
        {
          "output_type": "stream",
          "text": [
            "100%|██████████| 208/208 [00:56<00:00,  3.89it/s]\n"
          ],
          "name": "stderr"
        },
        {
          "output_type": "stream",
          "text": [
            "loss: 23.793458938598633\n",
            "mestlasDam\n",
            "[31, 63, 15, 35, 33, 46, 15, 28, 6, 35]\n"
          ],
          "name": "stdout"
        },
        {
          "output_type": "stream",
          "text": [
            "\r  0%|          | 0/208 [00:00<?, ?it/s]"
          ],
          "name": "stderr"
        },
        {
          "output_type": "stream",
          "text": [
            "========= Results: epoch 3 of 10 =========\n",
            "train loss: 24.17| valid loss: 23.99\n",
            "\n",
            "========= Epoch 4 of 10 =========\n"
          ],
          "name": "stdout"
        },
        {
          "output_type": "stream",
          "text": [
            "\r  0%|          | 1/208 [00:00<01:17,  2.66it/s]"
          ],
          "name": "stderr"
        },
        {
          "output_type": "stream",
          "text": [
            "loss: 24.02060317993164\n",
            "corypulsyt\n",
            "[48, 46, 15, 19, 32, 63, 44, 22, 17, 26]\n",
            "varectauyp\n",
            "[12, 46, 15, 63, 15, 35, 34, 27, 19, 32]\n",
            "loinusiuss\n",
            "[48, 46, 49, 27, 46, 15, 22, 53, 22, 35]\n",
            "malershiag\n",
            "[48, 46, 44, 63, 15, 22, 35, 14, 34, 26]\n",
            "haraeiglyl\n",
            "[48, 46, 15, 6, 63, 3, 58, 5, 19, 44]\n"
          ],
          "name": "stdout"
        },
        {
          "output_type": "stream",
          "text": [
            " 25%|██▍       | 51/208 [00:13<00:42,  3.69it/s]"
          ],
          "name": "stderr"
        },
        {
          "output_type": "stream",
          "text": [
            "loss: 24.00276756286621\n",
            "rerUertivu\n",
            "[48, 46, 15, 26, 46, 15, 35, 42, 31, 6]\n",
            "tagstertio\n",
            "[26, 3, 58, 22, 35, 63, 15, 35, 14, 34]\n",
            "lwauedirsl\n",
            "[48, 33, 3, 53, 63, 10, 46, 15, 35, 12]\n",
            "granilomal\n",
            "[62, 12, 46, 27, 42, 44, 3, 7, 6, 44]\n",
            "heroresysy\n",
            "[33, 63, 15, 46, 15, 63, 15, 4, 22, 17]\n"
          ],
          "name": "stdout"
        },
        {
          "output_type": "stream",
          "text": [
            " 49%|████▊     | 101/208 [00:27<00:30,  3.52it/s]"
          ],
          "name": "stderr"
        },
        {
          "output_type": "stream",
          "text": [
            "loss: 23.493682861328125\n",
            "gisegoacia\n",
            "[18, 46, 15, 3, 58, 12, 46, 15, 14, 34]\n",
            "Petiudnton\n",
            "[48, 46, 15, 3, 53, 10, 27, 35, 34, 27]\n",
            "amotlylyyh\n",
            "[3, 7, 46, 26, 33, 4, 5, 19, 32, 33]\n",
            "dettedisti\n",
            "[48, 46, 15, 35, 63, 10, 14, 22, 35, 42]\n",
            "hlyctumfma\n",
            "[33, 21, 4, 61, 35, 46, 7, 39, 38, 6]\n"
          ],
          "name": "stdout"
        },
        {
          "output_type": "stream",
          "text": [
            " 73%|███████▎  | 151/208 [00:40<00:15,  3.73it/s]"
          ],
          "name": "stderr"
        },
        {
          "output_type": "stream",
          "text": [
            "loss: 23.660245895385742\n",
            "vigelionho\n",
            "[31, 4, 29, 63, 44, 4, 34, 27, 33, 46]\n",
            "smptuspoma\n",
            "[22, 7, 32, 35, 46, 15, 26, 46, 7, 6]\n",
            "chelthitre\n",
            "[26, 33, 46, 44, 26, 33, 42, 35, 31, 63]\n",
            "derbomping\n",
            "[31, 63, 15, 8, 46, 7, 32, 42, 29, 58]\n",
            "Tidaticmme\n",
            "[48, 42, 61, 6, 35, 46, 15, 7, 7, 63]\n"
          ],
          "name": "stdout"
        },
        {
          "output_type": "stream",
          "text": [
            " 97%|█████████▋| 201/208 [00:54<00:01,  3.72it/s]"
          ],
          "name": "stderr"
        },
        {
          "output_type": "stream",
          "text": [
            "loss: 23.784198760986328\n",
            "hemeronede\n",
            "[48, 46, 7, 63, 15, 3, 31, 46, 31, 63]\n",
            "babBicasal\n",
            "[48, 6, 45, 44, 4, 61, 6, 35, 46, 44]\n",
            "maibvonoel\n",
            "[48, 46, 46, 24, 31, 46, 15, 46, 46, 44]\n",
            "scaanurtip\n",
            "[22, 26, 46, 49, 27, 46, 15, 26, 46, 26]\n",
            "andertrysh\n",
            "[34, 27, 31, 63, 15, 26, 33, 46, 22, 33]\n"
          ],
          "name": "stdout"
        },
        {
          "output_type": "stream",
          "text": [
            "100%|██████████| 208/208 [00:55<00:00,  4.53it/s]\n"
          ],
          "name": "stderr"
        },
        {
          "output_type": "stream",
          "text": [
            "loss: 23.924264907836914\n",
            "plabontowe\n",
            "[62, 12, 3, 31, 34, 27, 26, 46, 7, 63]\n"
          ],
          "name": "stdout"
        },
        {
          "output_type": "stream",
          "text": [
            "\r  0%|          | 0/208 [00:00<?, ?it/s]"
          ],
          "name": "stderr"
        },
        {
          "output_type": "stream",
          "text": [
            "========= Results: epoch 4 of 10 =========\n",
            "train loss: 23.82| valid loss: 23.75\n",
            "\n",
            "========= Epoch 5 of 10 =========\n"
          ],
          "name": "stdout"
        },
        {
          "output_type": "stream",
          "text": [
            "\r  0%|          | 1/208 [00:00<01:15,  2.75it/s]"
          ],
          "name": "stderr"
        },
        {
          "output_type": "stream",
          "text": [
            "loss: 23.799543380737305\n",
            "ronyglydob\n",
            "[48, 34, 27, 47, 18, 21, 19, 10, 46, 24]\n",
            "pocaristom\n",
            "[48, 46, 26, 46, 15, 14, 22, 35, 46, 7]\n",
            "geltesylec\n",
            "[48, 46, 44, 26, 46, 15, 19, 44, 63, 15]\n",
            "epshypedin\n",
            "[46, 32, 22, 33, 19, 32, 63, 10, 17, 27]\n",
            "otlelisynt\n",
            "[3, 26, 12, 46, 44, 4, 22, 17, 27, 26]\n"
          ],
          "name": "stdout"
        },
        {
          "output_type": "stream",
          "text": [
            " 25%|██▍       | 51/208 [00:13<00:40,  3.84it/s]"
          ],
          "name": "stderr"
        },
        {
          "output_type": "stream",
          "text": [
            "loss: 23.391658782958984\n",
            "utionerisy\n",
            "[49, 15, 14, 34, 29, 63, 15, 4, 22, 17]\n",
            "Malymotado\n",
            "[48, 34, 44, 19, 7, 46, 26, 46, 31, 3]\n",
            "qigbsmeste\n",
            "[48, 42, 41, 24, 22, 7, 46, 22, 35, 63]\n",
            "Thorsetian\n",
            "[48, 33, 46, 27, 22, 46, 35, 14, 34, 29]\n",
            "odobointia\n",
            "[3, 31, 46, 24, 46, 49, 27, 35, 14, 34]\n"
          ],
          "name": "stdout"
        },
        {
          "output_type": "stream",
          "text": [
            " 49%|████▊     | 101/208 [00:27<00:28,  3.80it/s]"
          ],
          "name": "stderr"
        },
        {
          "output_type": "stream",
          "text": [
            "loss: 23.864551544189453\n",
            "gindusalia\n",
            "[48, 49, 27, 10, 46, 15, 46, 44, 4, 6]\n",
            "yolampewoi\n",
            "[8, 46, 44, 46, 7, 32, 63, 15, 3, 42]\n",
            "moncrautib\n",
            "[48, 34, 27, 26, 12, 46, 46, 35, 14, 45]\n",
            "dachontode\n",
            "[48, 46, 41, 33, 46, 27, 26, 46, 31, 63]\n",
            "nomQotacri\n",
            "[48, 46, 7, 11, 3, 26, 34, 26, 33, 42]\n"
          ],
          "name": "stdout"
        },
        {
          "output_type": "stream",
          "text": [
            " 73%|███████▎  | 151/208 [00:40<00:15,  3.70it/s]"
          ],
          "name": "stderr"
        },
        {
          "output_type": "stream",
          "text": [
            "loss: 23.713638305664062\n",
            "kraphreesd\n",
            "[62, 12, 46, 32, 33, 12, 46, 63, 15, 31]\n",
            "dekication\n",
            "[31, 63, 31, 42, 61, 6, 35, 14, 34, 27]\n",
            "eslytychyr\n",
            "[46, 22, 21, 19, 5, 19, 26, 33, 19, 44]\n",
            "lymerselew\n",
            "[48, 46, 31, 63, 15, 22, 63, 44, 63, 15]\n",
            "tedmeredem\n",
            "[26, 46, 10, 31, 63, 15, 63, 10, 46, 7]\n"
          ],
          "name": "stdout"
        },
        {
          "output_type": "stream",
          "text": [
            " 97%|█████████▋| 201/208 [00:53<00:01,  3.72it/s]"
          ],
          "name": "stderr"
        },
        {
          "output_type": "stream",
          "text": [
            "loss: 23.801746368408203\n",
            "cybyanguud\n",
            "[48, 46, 24, 4, 34, 27, 18, 49, 27, 10]\n",
            "semicatera\n",
            "[48, 46, 7, 42, 61, 6, 35, 63, 15, 3]\n",
            "ompilatian\n",
            "[3, 7, 32, 42, 44, 6, 35, 14, 34, 29]\n",
            "apholticka\n",
            "[46, 32, 33, 34, 27, 35, 42, 61, 36, 6]\n",
            "mingyntert\n",
            "[25, 42, 29, 58, 17, 27, 35, 63, 15, 35]\n"
          ],
          "name": "stdout"
        },
        {
          "output_type": "stream",
          "text": [
            "100%|██████████| 208/208 [00:55<00:00,  4.46it/s]\n"
          ],
          "name": "stderr"
        },
        {
          "output_type": "stream",
          "text": [
            "loss: 23.500385284423828\n",
            "GensexJuls\n",
            "[48, 46, 27, 35, 63, 15, 30, 53, 15, 22]\n"
          ],
          "name": "stdout"
        },
        {
          "output_type": "stream",
          "text": [
            "\r  0%|          | 0/208 [00:00<?, ?it/s]"
          ],
          "name": "stderr"
        },
        {
          "output_type": "stream",
          "text": [
            "========= Results: epoch 5 of 10 =========\n",
            "train loss: 23.64| valid loss: 23.61\n",
            "\n",
            "========= Epoch 6 of 10 =========\n"
          ],
          "name": "stdout"
        },
        {
          "output_type": "stream",
          "text": [
            "\r  0%|          | 1/208 [00:00<01:30,  2.28it/s]"
          ],
          "name": "stderr"
        },
        {
          "output_type": "stream",
          "text": [
            "loss: 23.998214721679688\n",
            "merypiston\n",
            "[48, 46, 15, 19, 32, 63, 15, 8, 34, 29]\n",
            "kequitcong\n",
            "[48, 46, 30, 53, 42, 35, 16, 34, 27, 58]\n",
            "untraryote\n",
            "[49, 27, 26, 12, 46, 15, 19, 34, 29, 63]\n",
            "dephylumos\n",
            "[48, 46, 32, 33, 19, 44, 50, 7, 34, 15]\n",
            "abralalicr\n",
            "[46, 24, 2, 46, 44, 46, 44, 4, 61, 12]\n"
          ],
          "name": "stdout"
        },
        {
          "output_type": "stream",
          "text": [
            " 25%|██▍       | 51/208 [00:14<00:42,  3.71it/s]"
          ],
          "name": "stderr"
        },
        {
          "output_type": "stream",
          "text": [
            "loss: 23.56419563293457\n",
            "strablbieo\n",
            "[22, 35, 12, 6, 45, 44, 25, 42, 63, 3]\n",
            "sobdicaies\n",
            "[48, 46, 24, 10, 14, 61, 46, 42, 63, 15]\n",
            "pabgistati\n",
            "[48, 46, 24, 58, 42, 22, 35, 6, 35, 42]\n",
            "rurchfromo\n",
            "[12, 46, 15, 26, 33, 62, 12, 46, 7, 34]\n",
            "dellesityp\n",
            "[31, 46, 44, 21, 63, 15, 4, 5, 19, 32]\n"
          ],
          "name": "stdout"
        },
        {
          "output_type": "stream",
          "text": [
            " 49%|████▊     | 101/208 [00:27<00:28,  3.70it/s]"
          ],
          "name": "stderr"
        },
        {
          "output_type": "stream",
          "text": [
            "loss: 23.507736206054688\n",
            "Iryplalodi\n",
            "[62, 12, 19, 32, 44, 46, 44, 3, 31, 42]\n",
            "syismembit\n",
            "[48, 19, 4, 22, 7, 46, 7, 24, 42, 26]\n",
            "mockermmgl\n",
            "[48, 46, 15, 57, 63, 15, 38, 25, 58, 12]\n",
            "untarislnc\n",
            "[49, 27, 35, 46, 12, 42, 22, 17, 27, 26]\n",
            "Guchiperri\n",
            "[48, 46, 26, 33, 42, 32, 63, 15, 12, 42]\n"
          ],
          "name": "stdout"
        },
        {
          "output_type": "stream",
          "text": [
            " 73%|███████▎  | 151/208 [00:41<00:15,  3.74it/s]"
          ],
          "name": "stderr"
        },
        {
          "output_type": "stream",
          "text": [
            "loss: 23.453380584716797\n",
            "gnatonovia\n",
            "[41, 38, 6, 35, 34, 27, 3, 31, 42, 6]\n",
            "griarcryos\n",
            "[62, 12, 42, 6, 15, 26, 12, 19, 3, 22]\n",
            "zariogrurs\n",
            "[48, 46, 15, 42, 3, 58, 12, 46, 15, 22]\n",
            "Fontaterad\n",
            "[48, 34, 27, 35, 6, 35, 63, 15, 46, 31]\n",
            "Polocksnol\n",
            "[48, 46, 44, 46, 61, 57, 22, 29, 6, 44]\n"
          ],
          "name": "stdout"
        },
        {
          "output_type": "stream",
          "text": [
            " 97%|█████████▋| 201/208 [00:54<00:01,  3.72it/s]"
          ],
          "name": "stderr"
        },
        {
          "output_type": "stream",
          "text": [
            "loss: 23.498559951782227\n",
            "etecymably\n",
            "[13, 26, 46, 15, 19, 7, 6, 45, 21, 19]\n",
            "stesemanop\n",
            "[22, 35, 63, 15, 63, 1, 34, 29, 3, 32]\n",
            "prulyssati\n",
            "[62, 12, 46, 44, 19, 22, 35, 6, 35, 14]\n",
            "flatsoarin\n",
            "[18, 21, 6, 15, 22, 46, 46, 15, 14, 31]\n",
            "rommamedam\n",
            "[48, 46, 7, 37, 49, 7, 46, 31, 46, 7]\n"
          ],
          "name": "stdout"
        },
        {
          "output_type": "stream",
          "text": [
            "100%|██████████| 208/208 [00:56<00:00,  4.32it/s]\n"
          ],
          "name": "stderr"
        },
        {
          "output_type": "stream",
          "text": [
            "loss: 23.944332122802734\n",
            "sanginaciu\n",
            "[48, 34, 29, 58, 42, 29, 6, 16, 4, 50]\n"
          ],
          "name": "stdout"
        },
        {
          "output_type": "stream",
          "text": [
            "\r  0%|          | 0/208 [00:00<?, ?it/s]"
          ],
          "name": "stderr"
        },
        {
          "output_type": "stream",
          "text": [
            "========= Results: epoch 6 of 10 =========\n",
            "train loss: 23.52| valid loss: 23.50\n",
            "\n",
            "========= Epoch 7 of 10 =========\n"
          ],
          "name": "stdout"
        },
        {
          "output_type": "stream",
          "text": [
            "\r  0%|          | 1/208 [00:00<01:15,  2.74it/s]"
          ],
          "name": "stderr"
        },
        {
          "output_type": "stream",
          "text": [
            "loss: 23.66443634033203\n",
            "aftelysheb\n",
            "[13, 55, 35, 63, 21, 19, 22, 33, 63, 62]\n",
            "editepadac\n",
            "[49, 10, 42, 35, 46, 32, 46, 10, 3, 26]\n",
            "omonsucide\n",
            "[3, 11, 34, 27, 22, 46, 61, 14, 31, 63]\n",
            "ocKogytabu\n",
            "[46, 15, 4, 3, 58, 19, 26, 3, 24, 53]\n",
            "orsmpetedy\n",
            "[46, 15, 22, 7, 32, 63, 35, 63, 10, 19]\n"
          ],
          "name": "stdout"
        },
        {
          "output_type": "stream",
          "text": [
            " 25%|██▍       | 51/208 [00:14<00:44,  3.49it/s]"
          ],
          "name": "stderr"
        },
        {
          "output_type": "stream",
          "text": [
            "loss: 23.37617301940918\n",
            "eerpombavo\n",
            "[46, 46, 15, 26, 46, 7, 51, 46, 31, 34]\n",
            "bonconatio\n",
            "[48, 34, 29, 16, 34, 29, 6, 35, 14, 34]\n",
            "gonctisedi\n",
            "[48, 34, 27, 16, 35, 14, 22, 63, 10, 4]\n",
            "tanroperot\n",
            "[26, 46, 27, 12, 3, 32, 63, 15, 3, 26]\n",
            "hapterdert\n",
            "[33, 46, 32, 35, 63, 44, 31, 63, 15, 35]\n"
          ],
          "name": "stdout"
        },
        {
          "output_type": "stream",
          "text": [
            " 49%|████▊     | 101/208 [00:27<00:28,  3.74it/s]"
          ],
          "name": "stderr"
        },
        {
          "output_type": "stream",
          "text": [
            "loss: 23.183443069458008\n",
            "erbbsonine\n",
            "[46, 15, 8, 24, 2, 34, 27, 42, 29, 63]\n",
            "vacterarir\n",
            "[48, 46, 15, 35, 63, 12, 46, 12, 42, 44]\n",
            "hocrenanae\n",
            "[33, 46, 26, 12, 63, 31, 6, 27, 46, 3]\n",
            "unendesizk\n",
            "[49, 27, 46, 27, 31, 63, 15, 14, 61, 57]\n",
            "untaticens\n",
            "[49, 27, 35, 6, 35, 14, 61, 63, 15, 22]\n"
          ],
          "name": "stdout"
        },
        {
          "output_type": "stream",
          "text": [
            " 73%|███████▎  | 151/208 [00:41<00:18,  3.04it/s]"
          ],
          "name": "stderr"
        },
        {
          "output_type": "stream",
          "text": [
            "loss: 23.409622192382812\n",
            "lapitaders\n",
            "[48, 46, 32, 42, 26, 46, 31, 63, 15, 38]\n",
            "arinercras\n",
            "[49, 15, 4, 35, 63, 15, 26, 12, 46, 15]\n",
            "rulitytent\n",
            "[12, 46, 44, 4, 5, 19, 35, 63, 27, 35]\n",
            "sobrigaero\n",
            "[48, 46, 24, 12, 42, 41, 6, 63, 15, 3]\n",
            "fpavelogon\n",
            "[13, 26, 46, 31, 63, 44, 3, 58, 34, 29]\n"
          ],
          "name": "stdout"
        },
        {
          "output_type": "stream",
          "text": [
            " 97%|█████████▋| 201/208 [00:54<00:01,  3.72it/s]"
          ],
          "name": "stderr"
        },
        {
          "output_type": "stream",
          "text": [
            "loss: 23.292179107666016\n",
            "pruthededi\n",
            "[62, 12, 46, 26, 33, 63, 10, 3, 31, 4]\n",
            "caedoplycn\n",
            "[26, 46, 27, 10, 3, 32, 21, 19, 26, 12]\n",
            "cringiatio\n",
            "[26, 12, 42, 29, 58, 4, 6, 35, 14, 34]\n",
            "increxshta\n",
            "[49, 27, 26, 12, 63, 15, 22, 33, 14, 34]\n",
            "unegigneri\n",
            "[49, 27, 3, 58, 42, 41, 29, 63, 15, 14]\n"
          ],
          "name": "stdout"
        },
        {
          "output_type": "stream",
          "text": [
            "100%|██████████| 208/208 [00:56<00:00,  4.70it/s]\n"
          ],
          "name": "stderr"
        },
        {
          "output_type": "stream",
          "text": [
            "loss: 23.704559326171875\n",
            "sninbadomi\n",
            "[22, 35, 14, 29, 9, 46, 10, 3, 38, 4]\n"
          ],
          "name": "stdout"
        },
        {
          "output_type": "stream",
          "text": [
            "\r  0%|          | 0/208 [00:00<?, ?it/s]"
          ],
          "name": "stderr"
        },
        {
          "output_type": "stream",
          "text": [
            "========= Results: epoch 7 of 10 =========\n",
            "train loss: 23.41| valid loss: 23.40\n",
            "\n",
            "========= Epoch 8 of 10 =========\n"
          ],
          "name": "stdout"
        },
        {
          "output_type": "stream",
          "text": [
            "\r  0%|          | 1/208 [00:00<01:24,  2.45it/s]"
          ],
          "name": "stderr"
        },
        {
          "output_type": "stream",
          "text": [
            "loss: 23.13858985900879\n",
            "hasstacare\n",
            "[48, 46, 15, 22, 26, 46, 26, 46, 15, 63]\n",
            "qusionblyl\n",
            "[30, 53, 22, 14, 34, 29, 45, 21, 19, 44]\n",
            "loglymifis\n",
            "[48, 46, 58, 21, 19, 7, 4, 39, 42, 22]\n",
            "ungexserme\n",
            "[49, 27, 58, 63, 15, 22, 63, 15, 38, 46]\n",
            "necsetrecr\n",
            "[31, 63, 15, 22, 46, 26, 12, 3, 26, 12]\n"
          ],
          "name": "stdout"
        },
        {
          "output_type": "stream",
          "text": [
            " 25%|██▍       | 51/208 [00:13<00:41,  3.78it/s]"
          ],
          "name": "stderr"
        },
        {
          "output_type": "stream",
          "text": [
            "loss: 23.059940338134766\n",
            "cercitylyc\n",
            "[48, 46, 44, 61, 4, 5, 19, 44, 19, 26]\n",
            "Mocracrala\n",
            "[48, 46, 26, 12, 46, 26, 12, 6, 44, 6]\n",
            "gasroectiv\n",
            "[48, 46, 15, 38, 46, 46, 61, 35, 14, 31]\n",
            "trumflerun\n",
            "[26, 12, 46, 7, 39, 21, 63, 12, 46, 27]\n",
            "panosickex\n",
            "[48, 34, 29, 3, 38, 4, 61, 57, 63, 15]\n"
          ],
          "name": "stdout"
        },
        {
          "output_type": "stream",
          "text": [
            " 49%|████▊     | 101/208 [00:27<00:29,  3.59it/s]"
          ],
          "name": "stderr"
        },
        {
          "output_type": "stream",
          "text": [
            "loss: 23.657520294189453\n",
            "rHaysminan\n",
            "[12, 3, 52, 19, 22, 7, 42, 29, 6, 27]\n",
            "trolikenme\n",
            "[26, 12, 46, 44, 4, 36, 63, 27, 51, 46]\n",
            "dicroperte\n",
            "[31, 4, 26, 12, 3, 32, 63, 15, 35, 63]\n",
            "welizerrer\n",
            "[48, 46, 44, 4, 36, 63, 15, 12, 63, 15]\n",
            "matioblesw\n",
            "[25, 6, 35, 14, 34, 45, 21, 63, 15, 60]\n"
          ],
          "name": "stdout"
        },
        {
          "output_type": "stream",
          "text": [
            " 73%|███████▎  | 151/208 [00:41<00:14,  3.81it/s]"
          ],
          "name": "stderr"
        },
        {
          "output_type": "stream",
          "text": [
            "loss: 23.064796447753906\n",
            "wighmeponz\n",
            "[48, 46, 41, 33, 38, 46, 26, 34, 27, 43]\n",
            "phipereTmi\n",
            "[32, 33, 42, 32, 63, 12, 63, 15, 7, 46]\n",
            "umposscers\n",
            "[49, 7, 32, 46, 15, 22, 35, 63, 15, 38]\n",
            "cronlishla\n",
            "[26, 12, 34, 29, 44, 4, 22, 33, 12, 46]\n",
            "Aserictich\n",
            "[13, 22, 63, 15, 4, 61, 35, 14, 61, 33]\n"
          ],
          "name": "stdout"
        },
        {
          "output_type": "stream",
          "text": [
            " 97%|█████████▋| 201/208 [00:54<00:02,  3.48it/s]"
          ],
          "name": "stderr"
        },
        {
          "output_type": "stream",
          "text": [
            "loss: 23.43466567993164\n",
            "epoftienes\n",
            "[49, 32, 46, 55, 35, 14, 34, 29, 63, 15]\n",
            "untartrivi\n",
            "[49, 27, 26, 46, 15, 26, 12, 14, 31, 4]\n",
            "stosairido\n",
            "[22, 26, 3, 22, 46, 46, 15, 4, 29, 3]\n",
            "Palydyluti\n",
            "[48, 46, 44, 19, 10, 19, 44, 53, 35, 14]\n",
            "unmelyasma\n",
            "[49, 27, 38, 46, 44, 0, 6, 22, 28, 6]\n"
          ],
          "name": "stdout"
        },
        {
          "output_type": "stream",
          "text": [
            "100%|██████████| 208/208 [00:56<00:00,  3.67it/s]\n"
          ],
          "name": "stderr"
        },
        {
          "output_type": "stream",
          "text": [
            "loss: 23.20675277709961\n",
            "corotocity\n",
            "[26, 46, 15, 3, 35, 46, 15, 4, 5, 19]\n"
          ],
          "name": "stdout"
        },
        {
          "output_type": "stream",
          "text": [
            "\r  0%|          | 0/208 [00:00<?, ?it/s]"
          ],
          "name": "stderr"
        },
        {
          "output_type": "stream",
          "text": [
            "========= Results: epoch 8 of 10 =========\n",
            "train loss: 23.34| valid loss: 23.35\n",
            "\n",
            "========= Epoch 9 of 10 =========\n"
          ],
          "name": "stdout"
        },
        {
          "output_type": "stream",
          "text": [
            "\r  0%|          | 1/208 [00:00<01:16,  2.70it/s]"
          ],
          "name": "stderr"
        },
        {
          "output_type": "stream",
          "text": [
            "loss: 23.150440216064453\n",
            "pemacislee\n",
            "[48, 46, 7, 46, 61, 4, 22, 21, 63, 3]\n",
            "sorenaiabl\n",
            "[48, 46, 15, 63, 27, 46, 42, 6, 45, 21]\n",
            "bricteecan\n",
            "[62, 12, 42, 61, 35, 63, 46, 61, 6, 27]\n",
            "vialoughon\n",
            "[31, 4, 6, 44, 3, 53, 41, 33, 34, 29]\n",
            "traftoveno\n",
            "[26, 33, 46, 55, 35, 3, 31, 63, 27, 46]\n"
          ],
          "name": "stdout"
        },
        {
          "output_type": "stream",
          "text": [
            " 25%|██▍       | 51/208 [00:14<00:41,  3.78it/s]"
          ],
          "name": "stderr"
        },
        {
          "output_type": "stream",
          "text": [
            "loss: 23.249794006347656\n",
            "trecaliabl\n",
            "[62, 12, 46, 61, 6, 44, 4, 6, 45, 21]\n",
            "Marvansubs\n",
            "[48, 46, 15, 31, 6, 27, 22, 56, 24, 25]\n",
            "roncactomo\n",
            "[48, 34, 27, 26, 46, 61, 35, 3, 54, 34]\n",
            "phaueragol\n",
            "[48, 33, 6, 27, 63, 12, 6, 58, 34, 27]\n",
            "resdlentet\n",
            "[12, 46, 15, 10, 21, 46, 27, 35, 63, 26]\n"
          ],
          "name": "stdout"
        },
        {
          "output_type": "stream",
          "text": [
            " 49%|████▊     | 101/208 [00:28<00:29,  3.61it/s]"
          ],
          "name": "stderr"
        },
        {
          "output_type": "stream",
          "text": [
            "loss: 23.418804168701172\n",
            "unninerwos\n",
            "[49, 27, 38, 4, 29, 63, 15, 60, 46, 15]\n",
            "rossyngisn\n",
            "[12, 46, 15, 22, 17, 29, 58, 4, 22, 35]\n",
            "morsangelb\n",
            "[48, 46, 15, 38, 3, 29, 58, 63, 44, 51]\n",
            "wertossict\n",
            "[48, 46, 15, 35, 46, 15, 38, 4, 61, 35]\n",
            "gerheayatr\n",
            "[48, 46, 15, 33, 63, 3, 0, 6, 35, 12]\n"
          ],
          "name": "stdout"
        },
        {
          "output_type": "stream",
          "text": [
            " 73%|███████▎  | 151/208 [00:41<00:15,  3.70it/s]"
          ],
          "name": "stderr"
        },
        {
          "output_type": "stream",
          "text": [
            "loss: 23.153179168701172\n",
            "fativedere\n",
            "[18, 46, 35, 14, 31, 63, 31, 63, 15, 63]\n",
            "vadontubro\n",
            "[31, 6, 10, 46, 27, 26, 56, 24, 2, 34]\n",
            "warsoiermo\n",
            "[48, 46, 15, 38, 3, 42, 63, 15, 38, 46]\n",
            "shaunorone\n",
            "[22, 33, 46, 20, 31, 63, 15, 34, 29, 63]\n",
            "modndoisyl\n",
            "[48, 46, 10, 27, 31, 46, 42, 22, 17, 44]\n"
          ],
          "name": "stdout"
        },
        {
          "output_type": "stream",
          "text": [
            " 97%|█████████▋| 201/208 [00:55<00:01,  3.69it/s]"
          ],
          "name": "stderr"
        },
        {
          "output_type": "stream",
          "text": [
            "loss: 23.24637222290039\n",
            "fleuredant\n",
            "[18, 21, 46, 20, 12, 46, 31, 6, 27, 35]\n",
            "erpeceinea\n",
            "[46, 15, 26, 3, 26, 46, 42, 29, 63, 6]\n",
            "enosyperid\n",
            "[49, 27, 3, 38, 19, 32, 63, 12, 42, 10]\n",
            "carcrodent\n",
            "[48, 46, 15, 26, 12, 3, 31, 63, 27, 35]\n",
            "brousesact\n",
            "[62, 12, 3, 53, 22, 63, 38, 46, 61, 5]\n"
          ],
          "name": "stdout"
        },
        {
          "output_type": "stream",
          "text": [
            "100%|██████████| 208/208 [00:56<00:00,  4.54it/s]\n"
          ],
          "name": "stderr"
        },
        {
          "output_type": "stream",
          "text": [
            "loss: 23.462291717529297\n",
            "petasbopae\n",
            "[48, 46, 26, 46, 15, 38, 3, 32, 6, 63]\n"
          ],
          "name": "stdout"
        },
        {
          "output_type": "stream",
          "text": [
            "\r  0%|          | 0/208 [00:00<?, ?it/s]"
          ],
          "name": "stderr"
        },
        {
          "output_type": "stream",
          "text": [
            "========= Results: epoch 9 of 10 =========\n",
            "train loss: 23.30| valid loss: 23.32\n",
            "\n",
            "========= Epoch 10 of 10 =========\n"
          ],
          "name": "stdout"
        },
        {
          "output_type": "stream",
          "text": [
            "\r  0%|          | 1/208 [00:00<01:13,  2.81it/s]"
          ],
          "name": "stderr"
        },
        {
          "output_type": "stream",
          "text": [
            "loss: 23.180316925048828\n",
            "Totickenat\n",
            "[48, 46, 26, 42, 61, 57, 63, 29, 6, 35]\n",
            "relomelosw\n",
            "[12, 46, 44, 3, 11, 63, 21, 3, 22, 26]\n",
            "scrygobroi\n",
            "[22, 26, 12, 19, 8, 46, 24, 12, 3, 42]\n",
            "spterverop\n",
            "[22, 32, 35, 63, 15, 31, 63, 12, 3, 32]\n",
            "plopensyou\n",
            "[62, 12, 3, 32, 63, 27, 35, 19, 3, 53]\n"
          ],
          "name": "stdout"
        },
        {
          "output_type": "stream",
          "text": [
            " 25%|██▍       | 51/208 [00:13<00:42,  3.65it/s]"
          ],
          "name": "stderr"
        },
        {
          "output_type": "stream",
          "text": [
            "loss: 23.340988159179688\n",
            "Vopaforedi\n",
            "[48, 46, 32, 3, 39, 46, 44, 63, 10, 17]\n",
            "thaurnosle\n",
            "[26, 33, 46, 46, 15, 38, 46, 22, 21, 63]\n",
            "niphreltip\n",
            "[48, 42, 32, 33, 12, 46, 44, 35, 42, 32]\n",
            "uneangidea\n",
            "[49, 27, 63, 6, 29, 58, 14, 31, 63, 6]\n",
            "Cytricatel\n",
            "[48, 19, 26, 12, 42, 61, 6, 35, 63, 44]\n"
          ],
          "name": "stdout"
        },
        {
          "output_type": "stream",
          "text": [
            " 49%|████▊     | 101/208 [00:27<00:28,  3.75it/s]"
          ],
          "name": "stderr"
        },
        {
          "output_type": "stream",
          "text": [
            "loss: 23.096843719482422\n",
            "sphaladica\n",
            "[13, 32, 33, 6, 44, 6, 10, 14, 61, 6]\n",
            "unsporicta\n",
            "[49, 27, 22, 32, 46, 15, 42, 61, 35, 46]\n",
            "inizedleca\n",
            "[49, 27, 4, 36, 63, 10, 12, 63, 61, 6]\n",
            "peldiblegl\n",
            "[32, 46, 44, 31, 14, 45, 21, 3, 58, 21]\n",
            "tongicubro\n",
            "[48, 34, 29, 58, 4, 61, 56, 24, 2, 3]\n"
          ],
          "name": "stdout"
        },
        {
          "output_type": "stream",
          "text": [
            " 73%|███████▎  | 151/208 [00:41<00:16,  3.48it/s]"
          ],
          "name": "stderr"
        },
        {
          "output_type": "stream",
          "text": [
            "loss: 22.76116371154785\n",
            "alislydupo\n",
            "[13, 44, 4, 22, 21, 19, 10, 56, 32, 46]\n",
            "bleneoidos\n",
            "[62, 12, 63, 27, 63, 3, 42, 31, 46, 22]\n",
            "outatinine\n",
            "[3, 53, 35, 6, 35, 14, 29, 4, 29, 63]\n",
            "flewrastra\n",
            "[18, 21, 63, 26, 12, 46, 15, 26, 12, 46]\n",
            "veldebosca\n",
            "[48, 46, 44, 31, 63, 51, 46, 22, 26, 46]\n"
          ],
          "name": "stdout"
        },
        {
          "output_type": "stream",
          "text": [
            " 97%|█████████▋| 201/208 [00:54<00:01,  3.68it/s]"
          ],
          "name": "stderr"
        },
        {
          "output_type": "stream",
          "text": [
            "loss: 23.19066047668457\n",
            "sthlityssi\n",
            "[22, 26, 33, 21, 4, 5, 19, 22, 38, 42]\n",
            "ralcubfert\n",
            "[12, 6, 44, 26, 20, 55, 39, 63, 15, 35]\n",
            "tontermipe\n",
            "[26, 46, 27, 35, 63, 15, 25, 42, 32, 63]\n",
            "insinially\n",
            "[49, 27, 38, 4, 29, 4, 6, 44, 21, 19]\n",
            "waarganery\n",
            "[48, 46, 46, 15, 8, 34, 29, 63, 15, 17]\n"
          ],
          "name": "stdout"
        },
        {
          "output_type": "stream",
          "text": [
            "100%|██████████| 208/208 [00:56<00:00,  4.32it/s]\n"
          ],
          "name": "stderr"
        },
        {
          "output_type": "stream",
          "text": [
            "loss: 23.30339813232422\n",
            "Picrertifi\n",
            "[48, 46, 61, 12, 63, 15, 35, 14, 39, 42]\n",
            "========= Results: epoch 10 of 10 =========\n",
            "train loss: 23.27| valid loss: 23.30\n",
            "\n"
          ],
          "name": "stdout"
        }
      ]
    },
    {
      "cell_type": "markdown",
      "metadata": {
        "id": "zymBj9QrDHRM",
        "colab_type": "text"
      },
      "source": [
        "You may wish to try different values of $N$ and see what the impact on sample quality is. \n",
        "\n",
        "It's also interesting to look at the visited states. For instance, I noticed the following interesting behavior: \n",
        "- ~~If weight decay is used (`weight_decay=0.00001` in the initialization of the optimizer), the model almost always picks one of two states as the initial state, and uses one of these states to emit vowels and the other to emit consonants (without us programming that behavior or telling the model which letters are vowels!).~~\n",
        "- ~~But if no weight decay is used, then the model always starts from one particular state. I suspect that this is because weight decay encourages the state priors to be not too big, and if one state prior is very big, the model will always start from that state.~~\n",
        "\n",
        "EDIT: This behavior disappeared when I fixed the normalization of the transition matrix. But there are other interesting behaviors now:"
      ]
    },
    {
      "cell_type": "code",
      "metadata": {
        "id": "auBibYUTtIom",
        "colab_type": "code",
        "outputId": "17e24f7d-da4e-4ddd-9107-f0422e858cce",
        "colab": {
          "base_uri": "https://localhost:8080/",
          "height": 85
        }
      },
      "source": [
        "x = torch.tensor(encode(\"quack\")).unsqueeze(0)\n",
        "T = torch.tensor([5])\n",
        "print(model.viterbi(x,T))\n",
        "\n",
        "x = torch.tensor(encode(\"quick\")).unsqueeze(0)\n",
        "T = torch.tensor([5])\n",
        "print(model.viterbi(x,T))\n",
        "\n",
        "x = torch.tensor(encode(\"qurck\")).unsqueeze(0)\n",
        "T = torch.tensor([5])\n",
        "print(model.viterbi(x,T)) # should have lower probability---in English only vowels follow \"qu\"\n",
        "\n",
        "x = torch.tensor(encode(\"qiick\")).unsqueeze(0)\n",
        "T = torch.tensor([5])\n",
        "print(model.viterbi(x,T)) # should have lower probability---in English only \"u\" follows \"q\"\n"
      ],
      "execution_count": 0,
      "outputs": [
        {
          "output_type": "stream",
          "text": [
            "([[30, 53, 6, 16, 57]], tensor([[-15.3841]], device='cuda:0', grad_fn=<GatherBackward>))\n",
            "([[30, 53, 42, 61, 57]], tensor([[-12.1762]], device='cuda:0', grad_fn=<GatherBackward>))\n",
            "([[30, 53, 15, 16, 57]], tensor([[-18.2916]], device='cuda:0', grad_fn=<GatherBackward>))\n",
            "([[30, 53, 42, 61, 57]], tensor([[-20.4187]], device='cuda:0', grad_fn=<GatherBackward>))\n"
          ],
          "name": "stdout"
        }
      ]
    },
    {
      "cell_type": "markdown",
      "metadata": {
        "id": "7eZeQXWjhDev",
        "colab_type": "text"
      },
      "source": [
        "## Conclusion\n",
        "\n",
        "HMMs used to be very popular in natural language processing, but they have largely been overshadowed by neural network models like RNNs and Transformers. Still, it is fun and instructive to study the HMM; some commonly used machine learning techniques like [Connectionist Temporal Classification](https://www.cs.toronto.edu/~graves/icml_2006.pdf) are inspired by HMM methods. HMMs are [still used in conjunction with neural networks in speech recognition](https://arxiv.org/abs/1811.07453), where the assumption of a one-hot state makes sense for modelling phonemes, which are spoken one at a time."
      ]
    },
    {
      "cell_type": "markdown",
      "metadata": {
        "id": "gXQOBz5zqe10",
        "colab_type": "text"
      },
      "source": [
        "## Acknowledgments\n",
        "\n",
        "This notebook is based partly on Lawrence Rabiner's excellent article \"[A Tutorial on Hidden Markov Models and Selected Applications in Speech Recognition](https://www.cs.cmu.edu/~cga/behavior/rabiner1.pdf)\", which you may also like to check out. Thanks also to Dima Serdyuk and Kyle Gorman for their feedback on the draft."
      ]
    }
  ]
}